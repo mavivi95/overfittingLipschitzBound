{
  "cells": [
    {
      "cell_type": "markdown",
      "metadata": {
        "id": "view-in-github",
        "colab_type": "text"
      },
      "source": [
        "<a href=\"https://colab.research.google.com/github/mavivi95/overfittingLipschitzBound/blob/main/validationMethodLBExperimentoAadvPGD.ipynb\" target=\"_parent\"><img src=\"https://colab.research.google.com/assets/colab-badge.svg\" alt=\"Open In Colab\"/></a>"
      ]
    },
    {
      "cell_type": "code",
      "execution_count": null,
      "metadata": {
        "id": "4IEpzjwtUGxD"
      },
      "outputs": [],
      "source": [
        "import numpy as np\n",
        "import matplotlib.pyplot as plt\n",
        "\n",
        "import tensorflow as tf\n",
        "from tensorflow import keras\n",
        "from keras.layers import Input, Dense, Add\n",
        "\n",
        "from numpy.linalg import norm\n",
        "import pandas as pd\n",
        "\n",
        "import sklearn.metrics\n",
        "\n",
        "from keras import regularizers as l\n",
        "\n",
        "from sklearn.model_selection import KFold\n",
        "from sklearn.model_selection import ShuffleSplit\n",
        "from sklearn.model_selection import GridSearchCV\n",
        "\n",
        "import os\n",
        "\n",
        "from matplotlib.ticker import FormatStrFormatter\n",
        "\n",
        "import time\n",
        "np.random.seed(2023)"
      ]
    },
    {
      "cell_type": "code",
      "execution_count": null,
      "metadata": {
        "colab": {
          "base_uri": "https://localhost:8080/"
        },
        "id": "VJK1LgDiKas7",
        "outputId": "e616a176-808b-459d-c861-92b0dce35bec"
      },
      "outputs": [
        {
          "output_type": "stream",
          "name": "stdout",
          "text": [
            "/content\n"
          ]
        }
      ],
      "source": [
        "print(os.getcwd())"
      ]
    },
    {
      "cell_type": "code",
      "execution_count": null,
      "metadata": {
        "id": "1MIKM_4cKg5I"
      },
      "outputs": [],
      "source": [
        "os.chdir('/content/drive/MyDrive/Tesis Maestría /Codigos depurados/Experimento Imagenes Adversarias A')\n",
        "print(os.getcwd())"
      ]
    },
    {
      "cell_type": "code",
      "execution_count": null,
      "metadata": {
        "id": "EGJjM2C4rjOW"
      },
      "outputs": [],
      "source": [
        "plt.rcParams['font.family'] = 'DeJavu Serif'\n",
        "plt.rcParams['font.serif'] = ['Times New Roman']"
      ]
    },
    {
      "cell_type": "code",
      "execution_count": null,
      "metadata": {
        "id": "7qH4PZF1U0fu"
      },
      "outputs": [],
      "source": [
        "def load_data():\n",
        "  mnist = keras.datasets.mnist\n",
        "  (X_train, y_train), (X_test, y_test) = mnist.load_data()\n",
        "  X_train, X_test = X_train / 255.0, X_test / 255.0\n",
        "  X_train = X_train.reshape(len(y_train),784)\n",
        "  X_test  = X_test.reshape(len(y_test),784)\n",
        "\n",
        "  y_train_onehot = keras.utils.to_categorical(y_train)\n",
        "  y_test_onehot =  keras.utils.to_categorical(y_test)\n",
        "\n",
        "  print(f'Conjunto de datos cargados')\n",
        "  print(f'Tamaño imágenes de entrenamiento {X_train[:10000].shape}')\n",
        "  print(f'Tamaño imágenes de test {X_test.shape}')\n",
        "  print(f'Datos por cada etiqueta en X train {np.bincount(y_train[:10000])}')\n",
        "  return X_train[:10000], X_test, y_train_onehot[:10000], y_test_onehot, y_train[:10000], y_test"
      ]
    },
    {
      "cell_type": "code",
      "execution_count": null,
      "metadata": {
        "colab": {
          "base_uri": "https://localhost:8080/"
        },
        "id": "_M0ixwc8U6Wg",
        "outputId": "0cf9a5d6-b44f-4c6a-a6ff-7877a317b75a"
      },
      "outputs": [
        {
          "output_type": "stream",
          "name": "stdout",
          "text": [
            "Downloading data from https://storage.googleapis.com/tensorflow/tf-keras-datasets/mnist.npz\n",
            "\u001b[1m11490434/11490434\u001b[0m \u001b[32m━━━━━━━━━━━━━━━━━━━━\u001b[0m\u001b[37m\u001b[0m \u001b[1m0s\u001b[0m 0us/step\n",
            "Conjunto de datos cargados\n",
            "Tamaño imágenes de entrenamiento (10000, 784)\n",
            "Tamaño imágenes de test (10000, 784)\n",
            "Datos por cada etiqueta en X train [1001 1127  991 1032  980  863 1014 1070  944  978]\n"
          ]
        }
      ],
      "source": [
        "X_train, X_test, y_train_onehot, y_test_onehot, y_train, y_test = load_data()"
      ]
    },
    {
      "cell_type": "code",
      "execution_count": null,
      "metadata": {
        "colab": {
          "base_uri": "https://localhost:8080/",
          "height": 380
        },
        "id": "OMNo3jqeVAF4",
        "outputId": "630b9ddf-8e0b-4edf-fa24-5cc3d6ea941a"
      },
      "outputs": [
        {
          "output_type": "display_data",
          "data": {
            "text/plain": [
              "<Figure size 1000x500 with 10 Axes>"
            ],
            "image/png": "[encoded data removed]"
          },
          "metadata": {}
        }
      ],
      "source": [
        "fig, ax = plt.subplots(nrows=2, ncols=5, sharex=True, sharey=True, figsize=(10, 5))\n",
        "\n",
        "ax = ax.flatten()\n",
        "for i in range(10):\n",
        "    img = X_train[y_train == i][0].reshape(28, 28)\n",
        "    ax[i].imshow(img, cmap='gist_yarg')\n",
        "\n",
        "ax[0].set_xticks([])\n",
        "ax[0].set_yticks([])\n",
        "\n",
        "plt.show()"
      ]
    },
    {
      "cell_type": "markdown",
      "metadata": {
        "id": "FrNYCbhMVX6L"
      },
      "source": [
        "## Modelo con $n$ saltos residuales"
      ]
    },
    {
      "cell_type": "code",
      "execution_count": null,
      "metadata": {
        "id": "UIfWWdHjVYqG"
      },
      "outputs": [],
      "source": [
        "def skip_conection(dense_input, n, regular_l):\n",
        "  if n >= 2:\n",
        "    resDense = Dense(20, activation ='relu', kernel_regularizer=regular_l)(dense_input)\n",
        "    return skip_conection(Add()([dense_input, resDense]), n-1, regular_l)\n",
        "  resDenseo = Dense(20, activation ='relu', kernel_regularizer=regular_l)(dense_input)\n",
        "  return Add()([dense_input, resDenseo])"
      ]
    },
    {
      "cell_type": "code",
      "execution_count": null,
      "metadata": {
        "id": "BYzpnRMbVbX1"
      },
      "outputs": [],
      "source": [
        "def load_model(n, regular_l):\n",
        "  keras.backend.clear_session()\n",
        "  inputs  = Input(shape=(784,))\n",
        "  dense1  = Dense(20, activation  ='relu', kernel_regularizer=regular_l)(inputs)\n",
        "\n",
        "  skip_final = skip_conection(dense1, n, regular_l)\n",
        "\n",
        "  outputs = Dense(10, activation='softmax', kernel_regularizer=regular_l)(skip_final)\n",
        "  return keras.Model(inputs=inputs, outputs=outputs, name='RestNetCustomModelExperimentoA')"
      ]
    },
    {
      "cell_type": "code",
      "execution_count": null,
      "metadata": {
        "id": "5No1x97xuvXa"
      },
      "outputs": [],
      "source": [
        "class DataGenerator(tf.keras.utils.Sequence):\n",
        "    def __init__(self, images, labels, batch_size=100, shuffle=True):\n",
        "        super().__init__()\n",
        "        self.images = images\n",
        "        self.labels = labels\n",
        "        self.batch_size = batch_size\n",
        "        self.shuffle = shuffle\n",
        "        self.key_array = np.arange(self.images.shape[0], dtype=np.uint32)\n",
        "        self.on_epoch_end()\n",
        "\n",
        "    def __len__(self):\n",
        "        return len(self.key_array)//self.batch_size\n",
        "\n",
        "    def __getitem__(self, index):\n",
        "        keys = self.key_array[index*self.batch_size:(index+1)*self.batch_size]\n",
        "        x = np.asarray(self.images[keys], dtype=np.float32)\n",
        "        y = np.asarray(self.labels[keys], dtype=np.float32)\n",
        "\n",
        "        return x, y\n",
        "\n",
        "    def on_epoch_end(self):\n",
        "        if self.shuffle:\n",
        "            self.key_array = np.random.permutation(self.key_array)"
      ]
    },
    {
      "cell_type": "code",
      "execution_count": null,
      "metadata": {
        "colab": {
          "base_uri": "https://localhost:8080/"
        },
        "id": "y8phwsxOuyiL",
        "outputId": "9961ee93-099b-40ff-fb63-a3faa5f13613"
      },
      "outputs": [
        {
          "output_type": "execute_result",
          "data": {
            "text/plain": [
              "100"
            ]
          },
          "metadata": {},
          "execution_count": 13
        }
      ],
      "source": [
        "generator = DataGenerator(images=X_train, labels=y_train, batch_size=100, shuffle=True)\n",
        "n_batches = len(generator)\n",
        "n_batches"
      ]
    },
    {
      "cell_type": "code",
      "execution_count": null,
      "metadata": {
        "id": "FMCpwhStvCAH"
      },
      "outputs": [],
      "source": [
        "def lipschitz_bound(modelWeigts):\n",
        "  numberLayers = len(modelWeigts)\n",
        "  LipsBound = np.linalg.norm(modelWeigts[0], ord=2)     # Norma espectral (2) capa 1\n",
        "  if LipsBound == 0: LipsBound = 1\n",
        "\n",
        "  for rc in np.arange(2,numberLayers-2,2):              # En los indices de las capas residuales\n",
        "    try:\n",
        "      LipsBound *= (1 + np.linalg.norm(modelWeigts[rc], ord=2))\n",
        "    except:\n",
        "      LipsBound *= 1\n",
        "\n",
        "  LipsBound *= np.linalg.norm(modelWeigts[numberLayers-2], ord=2) # Capa de salida\n",
        "\n",
        "  return  LipsBound"
      ]
    },
    {
      "cell_type": "markdown",
      "metadata": {
        "id": "dMjVK9xOvGxT"
      },
      "source": [
        "##  Funciones graficar"
      ]
    },
    {
      "cell_type": "code",
      "execution_count": null,
      "metadata": {
        "id": "MZnlIQu9uUrx"
      },
      "outputs": [],
      "source": [
        "def graphGridAcc(skip):\n",
        "  fig = plt.figure(figsize=(16, 12))\n",
        "  ax = plt.gca()\n",
        "  ax.yaxis.set_major_formatter(FormatStrFormatter('%.2f'))\n",
        "  plt.plot(epoch_vec, acc_train_mean_M0, '#5271ff', linestyle = \"-\", marker = \"o\",\n",
        "           label='Precisión entrenamiento', lw = 3)\n",
        "  plt.plot(epoch_vec, acc_val_mean_M0,  '#ff5271',\n",
        "           label='Precisión validación', linestyle = '-', marker = 'o', lw = 3)\n",
        "  plt.fill_between(epoch_vec, acc_std_positive_M0, acc_std_negative_M0,\n",
        "                   label = r'$\\sigma$ precisión entrenamiento',\n",
        "                  alpha=0.2, color = '#5271ff')\n",
        "  plt.fill_between(epoch_vec, acc_std_positive_val_M0, acc_std_negative_val_M0,\n",
        "                   label = r'$\\sigma$ precisión validación',\n",
        "                  alpha=0.2, color = '#ff5271')\n",
        "  plt.xlabel('Época',fontsize=36)\n",
        "  plt.ylabel(r'Precisión',fontsize=36)\n",
        "  plt.xlim([1, n_epochs])\n",
        "  plt.ylim(top=1)\n",
        "  plt.grid()\n",
        "  plt.legend(fontsize=36,loc = 'lower right')\n",
        "  plt.xticks(np.arange(0, n_epochs+1, step=10), fontsize=36)\n",
        "  plt.yticks(fontsize=36)\n",
        "  plt.tight_layout()\n",
        "  nameFile = 'presicionModelo' + str(skip) + 'G' +'.pdf'\n",
        "  plt.savefig(nameFile)\n",
        "  #plt.show()\n",
        "\n",
        "\n",
        "\n",
        "def graphAcc(skip):\n",
        "  fig = plt.figure(figsize=(16, 12))\n",
        "  ax = plt.gca()\n",
        "  ax.yaxis.set_major_formatter(FormatStrFormatter('%.2f'))\n",
        "  plt.plot(epoch_vec, acc_train_mean_M0, '#5271ff', linestyle = \"-\", marker = \"o\",\n",
        "           label='Precisión entrenamiento', lw = 3)\n",
        "  plt.plot(epoch_vec, acc_val_mean_M0,  '#ff5271',\n",
        "           label='Precisión validación', linestyle = '-', marker = 'o', lw = 3)\n",
        "  plt.fill_between(epoch_vec, acc_std_positive_M0, acc_std_negative_M0,\n",
        "                   label = r'$\\sigma$ precisión entrenamiento',\n",
        "                  alpha=0.2, color = '#5271ff')\n",
        "  plt.fill_between(epoch_vec, acc_std_positive_val_M0, acc_std_negative_val_M0,\n",
        "                   label = r'$\\sigma$ precisión validación',\n",
        "                  alpha=0.2, color = '#ff5271')\n",
        "  plt.xlabel('Época',fontsize=36)\n",
        "  plt.ylabel(r'Precisión',fontsize=36)\n",
        "  plt.xlim([1, n_epochs])\n",
        "  plt.ylim(top=1)\n",
        "  plt.legend(fontsize=36,loc = 'lower right')\n",
        "  plt.xticks(np.arange(0, n_epochs+1, step=10), fontsize=36)\n",
        "  plt.yticks(fontsize=36)\n",
        "  nameFile = 'presicionModelo' + str(skip) +'.pdf'\n",
        "  plt.tight_layout()\n",
        "  plt.savefig(nameFile)\n",
        "  #plt.show()\n"
      ]
    },
    {
      "cell_type": "code",
      "execution_count": null,
      "metadata": {
        "id": "eYnfvwO0Hx6Y"
      },
      "outputs": [],
      "source": [
        "def graphGridLipschtiz(skip):\n",
        "  fig = plt.figure(figsize=(16, 12))\n",
        "  ax = plt.gca()\n",
        "  #ax.yaxis.set_major_formatter(FormatStrFormatter('%.2f'))\n",
        "  plt.plot(epoch_vec, LB_mean_M0, '#5271ff', linestyle = \"-\", marker = \"o\",\n",
        "           label='Cota de Lipschitz', lw = 3)\n",
        "  plt.fill_between(epoch_vec, LB_std_positive_M0, LB_std_negative_M0,\n",
        "                   alpha=0.2, color = '#5271ff',\n",
        "                  label = r'$\\sigma$ cota de Lipschitz')\n",
        "\n",
        "  plt.xlabel('Época',fontsize=36)\n",
        "  plt.ylabel(r'$LB$',fontsize=36)\n",
        "  plt.xlim([1, n_epochs])\n",
        "  plt.legend(fontsize=36,loc = 'best')\n",
        "  plt.xticks(np.arange(0, n_epochs+1, step=10), fontsize=36)\n",
        "  plt.yticks(fontsize=36)\n",
        "  plt.ticklabel_format(axis = 'y')\n",
        "  plt.grid()\n",
        "  nameFile = 'cotaLipschitzModelo' + str(skip) + 'G' +'.pdf'\n",
        "  plt.tight_layout()\n",
        "  plt.savefig(nameFile)\n",
        "  #plt.show()\n",
        "\n",
        "def graphLipschtiz(skip):\n",
        "  fig = plt.figure(figsize=(16, 12))\n",
        "  ax = plt.gca()\n",
        "  #ax.yaxis.set_major_formatter(FormatStrFormatter('%.2f'))\n",
        "  plt.plot(epoch_vec, LB_mean_M0, '#5271ff', linestyle = \"-\", marker = \"o\",\n",
        "           label='Cota de Lipschitz', lw = 3)\n",
        "  plt.fill_between(epoch_vec, LB_std_positive_M0, LB_std_negative_M0,\n",
        "                   alpha=0.2, color = '#5271ff',\n",
        "                   label = r'$\\sigma$ cota de Lipschitz')\n",
        "\n",
        "  plt.xlabel('Época',fontsize=36)\n",
        "  plt.ylabel(r'$LB$',fontsize=36)\n",
        "  plt.xlim([1, n_epochs])\n",
        "  plt.legend(fontsize=36,loc = 'best')\n",
        "  plt.xticks(np.arange(0, n_epochs+1, step=10), fontsize=36)\n",
        "  plt.yticks(fontsize=36)\n",
        "  plt.ticklabel_format(axis = 'y')\n",
        "  plt.tight_layout()\n",
        "  nameFile = 'cotaLipschitzModelo' + str(skip) +'.pdf'\n",
        "  plt.savefig(nameFile)\n",
        "  #plt.show()"
      ]
    },
    {
      "cell_type": "code",
      "execution_count": null,
      "metadata": {
        "id": "4MpDCJNt41Bb"
      },
      "outputs": [],
      "source": [
        "def graphGridLipschtizlog(skip):\n",
        "  fig = plt.figure(figsize=(16, 12))\n",
        "  ax = plt.gca()\n",
        "  ax.yaxis.set_major_formatter(FormatStrFormatter('%.2f'))\n",
        "  plt.plot(epoch_vec, np.log10(LB_mean_M0), '#5271ff', linestyle = \"-\", marker = \"o\",\n",
        "           label='Cota de Lipschitz', lw = 3)\n",
        "  plt.fill_between(epoch_vec, np.log10(LB_std_positive_M0), np.log10(LB_std_negative_M0),\n",
        "                   alpha=0.2, color = '#5271ff',\n",
        "                   label = r'$\\sigma$ cota de Lipschitz')\n",
        "\n",
        "  plt.xlabel('Época',fontsize=36)\n",
        "  plt.ylabel(r'$\\log_{10} (LB)$',fontsize=36)\n",
        "  plt.xlim([1, n_epochs])\n",
        "  plt.legend(fontsize=36,loc = 'best')\n",
        "  plt.xticks(np.arange(0, n_epochs+1, step=10), fontsize=36)\n",
        "  plt.yticks(fontsize=36)\n",
        "  plt.ticklabel_format(axis = 'y')\n",
        "  plt.grid()\n",
        "  plt.tight_layout()\n",
        "  nameFile = 'cotaLipschitzModelolog' + str(skip) + 'G' +'.pdf'\n",
        "  plt.tight_layout()\n",
        "  plt.savefig(nameFile)\n",
        "  #plt.show()\n",
        "\n",
        "def graphLipschtizlog(skip):\n",
        "  fig = plt.figure(figsize=(16, 12))\n",
        "  ax = plt.gca()\n",
        "  ax.yaxis.set_major_formatter(FormatStrFormatter('%.2f'))\n",
        "  plt.plot(epoch_vec, np.log10(LB_mean_M0), '#5271ff', linestyle = \"-\", marker = \"o\",\n",
        "           label='Cota de Lipschitz', lw = 3)\n",
        "  plt.fill_between(epoch_vec, np.log10(LB_std_positive_M0), np.log10(LB_std_negative_M0),\n",
        "                   alpha=0.2, color = '#5271ff',\n",
        "                   label = r'$\\sigma$ cota de Lipschitz')\n",
        "\n",
        "  plt.xlabel('Época',fontsize=36)\n",
        "  plt.ylabel(r'$\\log_{10} (LB)$',fontsize=36)\n",
        "  plt.xlim([1, n_epochs])\n",
        "  plt.legend(fontsize=36,loc = 'best')\n",
        "  plt.xticks(np.arange(0, n_epochs+1, step=10), fontsize=36)\n",
        "  plt.yticks(fontsize=36)\n",
        "  plt.ticklabel_format(axis = 'y')\n",
        "  nameFile = 'cotaLipschitzModelolog' + str(skip) +'.pdf'\n",
        "  plt.tight_layout()\n",
        "  plt.savefig(nameFile)\n",
        "  #plt.show()"
      ]
    },
    {
      "cell_type": "code",
      "execution_count": null,
      "metadata": {
        "id": "uXZpVA-zXMlF"
      },
      "outputs": [],
      "source": [
        "def graphGridLoss(skip):\n",
        "  fig = plt.figure(figsize=(16, 12))\n",
        "  ax = plt.gca()\n",
        "  ax.yaxis.set_major_formatter(FormatStrFormatter('%.2f'))\n",
        "  plt.plot(epoch_vec, loss_mean_M0, '#5271ff', linestyle = \"-\", marker = \"o\",\n",
        "           label='Perdida entrenamiento', lw = 3)\n",
        "  plt.fill_between(epoch_vec, loss_std_positive_M0, loss_std_negative_M0,\n",
        "                  label = r'$\\sigma$ perdida en entrenamiento',\n",
        "                   alpha=0.2, color = '#5271ff')\n",
        "  plt.plot(epoch_vec, loss_mean_M0_val, '#ff5271', label='Perdida validación',\n",
        "           lw = 3, linestyle = '-', marker = 'o')\n",
        "  plt.fill_between(epoch_vec, loss_std_positive_M0_val, loss_std_negative_M0_val,\n",
        "                  label = r'$\\sigma$ perdida en validación',\n",
        "                   alpha=0.2, color = '#ff5271')\n",
        "\n",
        "  plt.xlabel('Época',fontsize=36)\n",
        "  plt.ylabel(r'$l(y,\\hat{y})$',fontsize=36)\n",
        "  plt.xlim([1, n_epochs])\n",
        "  plt.legend(fontsize=36,loc = 'upper right')\n",
        "  plt.xticks(np.arange(0, n_epochs+1, step=10), fontsize=36)\n",
        "  plt.yticks(fontsize=36)\n",
        "  ##plt.ticklabel_format(axis = 'y', style = 'scientific')\n",
        "  plt.grid()\n",
        "  nameFile = 'funcionPerdidaModelo' + str(skip) + 'G' + '.pdf'\n",
        "  plt.tight_layout()\n",
        "  plt.savefig(nameFile)\n",
        "  #plt.show()\n",
        "\n",
        "def graphLoss(skip):\n",
        "  fig = plt.figure(figsize=(16, 12))\n",
        "  ax = plt.gca()\n",
        "  ax.yaxis.set_major_formatter(FormatStrFormatter('%.2f'))\n",
        "  plt.plot(epoch_vec, loss_mean_M0, '#5271ff', linestyle = \"-\", marker = \"o\",\n",
        "           label='Perdida entrenamiento', lw = 3)\n",
        "  plt.fill_between(epoch_vec, loss_std_positive_M0, loss_std_negative_M0,\n",
        "                  label = r'$\\sigma$ perdida en entrenamiento',\n",
        "                   alpha=0.2, color = '#5271ff')\n",
        "  plt.plot(epoch_vec, loss_mean_M0_val, '#ff5271', label='Perdida validación',\n",
        "           lw = 3, linestyle = '-', marker = 'o')\n",
        "  plt.fill_between(epoch_vec, loss_std_positive_M0_val, loss_std_negative_M0_val,\n",
        "                  label = r'$\\sigma$ perdida en validación',\n",
        "                   alpha=0.2, color = '#ff5271')\n",
        "\n",
        "  plt.xlabel('Época',fontsize=36)\n",
        "  plt.ylabel(r'$l(y,\\hat{y})$',fontsize=36)\n",
        "  plt.xlim([1, n_epochs])\n",
        "  plt.legend(fontsize=36,loc = 'upper right')\n",
        "  plt.xticks(np.arange(0, n_epochs+1, step=10), fontsize=36)\n",
        "  plt.yticks(fontsize=36)\n",
        "  ##plt.ticklabel_format(axis = 'y', style = 'scientific')\n",
        "  nameFile = 'funcionPerdidaModelo' + str(skip) +'.pdf'\n",
        "  plt.tight_layout()\n",
        "  plt.savefig(nameFile)\n",
        "  #plt.show()\n"
      ]
    },
    {
      "cell_type": "markdown",
      "source": [
        "## Entrenamiento conjunto de modelos validación cruzada k-fold - Entrenamiento Convencional"
      ],
      "metadata": {
        "id": "0PfMgCZOwFHH"
      }
    },
    {
      "cell_type": "code",
      "source": [
        "skips = [4,6,8]\n",
        "n_epochs = 60\n",
        "resultGeneral = {}\n",
        "modelConvencional = {}\n",
        "\n",
        "for skip in skips:\n",
        "  optimizer = tf.keras.optimizers.SGD()\n",
        "  ce_loss = tf.keras.losses.CategoricalCrossentropy()\n",
        "\n",
        "  print(f'Modelo : {skip} saltos residuales')\n",
        "  print(f'\\n ----')\n",
        "  generator = DataGenerator(images=X_train,\n",
        "                            labels=y_train,\n",
        "                            batch_size=100, shuffle=True)\n",
        "  n_batches = len(generator)\n",
        "  print(n_batches)\n",
        "\n",
        "  model = load_model(skip,l.l2(0))\n",
        "\n",
        "  acc_train = np.zeros(shape=(n_epochs,), dtype=np.float32)\n",
        "  LB_1 = np.zeros(shape=(n_epochs,))\n",
        "\n",
        "  for epoch in range(n_epochs):\n",
        "    epoch_acc_avg = tf.keras.metrics.Mean() # Keeping track of the training accuracy\n",
        "    for batch in range(n_batches):\n",
        "      x, y = generator[batch]\n",
        "\n",
        "      with tf.GradientTape() as tape: # Forward pass\n",
        "        y_ = model(x, training=True)\n",
        "        loss = ce_loss(y_true=keras.utils.to_categorical(y, num_classes=10), y_pred=y_)\n",
        "\n",
        "      grad = tape.gradient(loss, model.trainable_variables)\n",
        "      optimizer.apply_gradients(zip(grad, model.trainable_variables)) # Update network weights\n",
        "      epoch_acc_avg(sklearn.metrics.accuracy_score(y_true=y, y_pred=np.argmax(y_, axis=-1)))\n",
        "\n",
        "    generator.on_epoch_end()\n",
        "    acc_train[epoch] = epoch_acc_avg.result()\n",
        "    LB = lipschitz_bound(model.get_weights())\n",
        "    LB_1[epoch]= LB\n",
        "\n",
        "  y_test_ = model(X_test)\n",
        "  acc_test = sklearn.metrics.accuracy_score(y_true=y_test,\n",
        "                                                      y_pred=np.argmax(y_test_, axis=-1))\n",
        "\n",
        "  resultGeneral[skip] = [acc_train, acc_test, LB_1]\n",
        "  modelConvencional[skip] = model\n",
        "pd.DataFrame.to_csv(pd.DataFrame(resultGeneral), 'ResultadosExperimentoAadv.csv')"
      ],
      "metadata": {
        "id": "4PxYMd23wKnX",
        "colab": {
          "base_uri": "https://localhost:8080/"
        },
        "outputId": "234d60f4-7aed-4ca0-dd2a-f2a997ceaa4e"
      },
      "execution_count": null,
      "outputs": [
        {
          "output_type": "stream",
          "name": "stdout",
          "text": [
            "Modelo : 4 saltos residuales\n",
            "\n",
            " ----\n",
            "100\n",
            "Modelo : 6 saltos residuales\n",
            "\n",
            " ----\n",
            "100\n",
            "Modelo : 8 saltos residuales\n",
            "\n",
            " ----\n",
            "100\n"
          ]
        }
      ]
    },
    {
      "cell_type": "markdown",
      "source": [
        "### Evaluación en test de los modelos"
      ],
      "metadata": {
        "id": "zgSbGn1AyzWt"
      }
    },
    {
      "cell_type": "code",
      "source": [
        "for skip in skips:\n",
        "  mean_test = resultGeneral[skip][1]\n",
        "  print(f'Modelo {skip}, test {mean_test*100:0.2f}')"
      ],
      "metadata": {
        "id": "Wbxy10H1yKv2",
        "colab": {
          "base_uri": "https://localhost:8080/"
        },
        "outputId": "3fa2e7d1-df67-4ce0-cbaa-900cd43199e5"
      },
      "execution_count": null,
      "outputs": [
        {
          "output_type": "stream",
          "name": "stdout",
          "text": [
            "Modelo 4, test 92.42\n",
            "Modelo 6, test 91.93\n",
            "Modelo 8, test 91.20\n"
          ]
        }
      ]
    },
    {
      "cell_type": "markdown",
      "source": [
        "### Evaluación en entrenamiento de los modelos"
      ],
      "metadata": {
        "id": "LZIhsznJy00h"
      }
    },
    {
      "cell_type": "code",
      "source": [
        "for skip in skips:\n",
        "  mean_train = resultGeneral[skip][0][-1]\n",
        "  print(f'Modelo {skip}, train {mean_train*100:0.2f}')"
      ],
      "metadata": {
        "id": "O6MEnL8vyuR2",
        "colab": {
          "base_uri": "https://localhost:8080/"
        },
        "outputId": "ed3e6fee-388f-4cef-916c-55844633d511"
      },
      "execution_count": null,
      "outputs": [
        {
          "output_type": "stream",
          "name": "stdout",
          "text": [
            "Modelo 4, train 96.42\n",
            "Modelo 6, train 97.80\n",
            "Modelo 8, train 97.10\n"
          ]
        }
      ]
    },
    {
      "cell_type": "markdown",
      "source": [
        "### Evaluación con imágenes adversarias PGD"
      ],
      "metadata": {
        "id": "MMnADNY0y90R"
      }
    },
    {
      "cell_type": "code",
      "source": [
        "# PGD Attack Implementation\n",
        "def pgd_attack(x, y, model, epsilon=0.03, alpha=0.01, iterations=10):\n",
        "    x_adv = tf.Variable(x)\n",
        "    for _ in range(iterations):\n",
        "        with tf.GradientTape() as tape:\n",
        "            prediction = model(x_adv)\n",
        "            loss = keras.losses.categorical_crossentropy(y, prediction)\n",
        "        gradient = tape.gradient(loss, x_adv)\n",
        "        signed_grad = tf.sign(gradient)\n",
        "        x_adv.assign_add(alpha * signed_grad)\n",
        "\n",
        "        # Project perturbations to ensure they stay within epsilon bounds\n",
        "        perturbation = tf.clip_by_value(x_adv - x, -epsilon, epsilon)\n",
        "        x_adv.assign(x + perturbation)\n",
        "\n",
        "    return x_adv.numpy()\n",
        "\n",
        "# Function to scale images\n",
        "def scale_image(x):\n",
        "    m = 1 / (np.max(x) - np.min(x))\n",
        "    b = -1 * m * np.min(x)\n",
        "    return m * x + b * np.ones(len(x))\n",
        "\n",
        "# Function to plot digits\n",
        "def graph_digits(X, y):\n",
        "    fig, ax = plt.subplots(nrows=2, ncols=5, sharex=True, sharey=True, figsize=(10, 5))\n",
        "    ax = ax.flatten()\n",
        "    for i in range(10):\n",
        "        img = X[y == i][0].reshape(28, 28)\n",
        "        ax[i].imshow(img, cmap='gist_yarg')\n",
        "    ax[0].set_xticks([])\n",
        "    ax[0].set_yticks([])\n",
        "    plt.show()"
      ],
      "metadata": {
        "id": "PKZqA1shyyZQ"
      },
      "execution_count": null,
      "outputs": []
    },
    {
      "cell_type": "code",
      "source": [
        "# Display original images\n",
        "print(\"Original Images\")\n",
        "graph_digits(X_test[0:1000], y_test[0:1000])"
      ],
      "metadata": {
        "id": "NQnqswbozOLX",
        "colab": {
          "base_uri": "https://localhost:8080/",
          "height": 397
        },
        "outputId": "f86f3a9f-11ca-4b36-8c54-b8b806d2fe35"
      },
      "execution_count": null,
      "outputs": [
        {
          "output_type": "stream",
          "name": "stdout",
          "text": [
            "Original Images\n"
          ]
        },
        {
          "output_type": "display_data",
          "data": {
            "text/plain": [
              "<Figure size 1000x500 with 10 Axes>"
            ],
            "image/png": "[encoded data removed]"
          },
          "metadata": {}
        }
      ]
    },
    {
      "cell_type": "code",
      "source": [
        "# Loss function\n",
        "loss_function = keras.losses.categorical_crossentropy\n",
        "Eval_models_by_rho_skip = {}\n",
        "\n",
        "for skip in skips:\n",
        "    rho = 0.02\n",
        "    Eval_models_by_rho = {}\n",
        "    model = modelConvencional[skip]\n",
        "\n",
        "    X_test_attack = np.zeros((1000, 784))\n",
        "    i = 0\n",
        "\n",
        "    for x_test in X_test[0:1000]:\n",
        "        x_tensor = tf.convert_to_tensor(x_test, dtype='float32')\n",
        "        x_tensor = tf.expand_dims(x_tensor, axis=0)\n",
        "        y_tensor = tf.convert_to_tensor(y_test_onehot[i], dtype='float32')\n",
        "        y_tensor = tf.expand_dims(y_tensor, axis=0)\n",
        "\n",
        "        # Generate adversarial example with PGD\n",
        "        x_test_new = pgd_attack(x_tensor, y_tensor, model, epsilon=rho, alpha=0.005, iterations=10)\n",
        "        X_test_attack[i] = scale_image(x_test_new)\n",
        "        i += 1\n",
        "\n",
        "    print(f'Perturbed Images Example')\n",
        "    graph_digits(X_test_attack, y_test[0:1000])\n",
        "\n",
        "    # Evaluate the model on adversarial examples\n",
        "    y_pred = model.predict(X_test_attack)\n",
        "    Eval_models = sklearn.metrics.accuracy_score(y_true=y_test[0:1000], y_pred=np.argmax(y_pred, axis=-1))\n",
        "    Eval_models_by_rho_skip[skip] = Eval_models"
      ],
      "metadata": {
        "id": "MKsxAGR71tL3",
        "colab": {
          "base_uri": "https://localhost:8080/",
          "height": 1000
        },
        "outputId": "535f610d-c619-4d5b-f9da-23fbe016ce32"
      },
      "execution_count": null,
      "outputs": [
        {
          "output_type": "stream",
          "name": "stdout",
          "text": [
            "Perturbed Images Example\n"
          ]
        },
        {
          "output_type": "display_data",
          "data": {
            "text/plain": [
              "<Figure size 1000x500 with 10 Axes>"
            ],
            "image/png": "[encoded data removed]"
          },
          "metadata": {}
        },
        {
          "output_type": "stream",
          "name": "stdout",
          "text": [
            "\u001b[1m32/32\u001b[0m \u001b[32m━━━━━━━━━━━━━━━━━━━━\u001b[0m\u001b[37m\u001b[0m \u001b[1m0s\u001b[0m 5ms/step\n",
            "Perturbed Images Example\n"
          ]
        },
        {
          "output_type": "display_data",
          "data": {
            "text/plain": [
              "<Figure size 1000x500 with 10 Axes>"
            ],
            "image/png": "[encoded data removed]"
          },
          "metadata": {}
        },
        {
          "output_type": "stream",
          "name": "stdout",
          "text": [
            "\u001b[1m32/32\u001b[0m \u001b[32m━━━━━━━━━━━━━━━━━━━━\u001b[0m\u001b[37m\u001b[0m \u001b[1m0s\u001b[0m 5ms/step\n",
            "Perturbed Images Example\n"
          ]
        },
        {
          "output_type": "display_data",
          "data": {
            "text/plain": [
              "<Figure size 1000x500 with 10 Axes>"
            ],
            "image/png": "[encoded data removed]"
          },
          "metadata": {}
        },
        {
          "output_type": "stream",
          "name": "stdout",
          "text": [
            "\u001b[1m32/32\u001b[0m \u001b[32m━━━━━━━━━━━━━━━━━━━━\u001b[0m\u001b[37m\u001b[0m \u001b[1m0s\u001b[0m 5ms/step\n"
          ]
        }
      ]
    },
    {
      "cell_type": "code",
      "source": [
        "for skip in skips:\n",
        "    print(f'Modelo {skip}, % presición {Eval_models_by_rho_skip[skip]*100:0.2f}')"
      ],
      "metadata": {
        "id": "dwayXxBNzUZK",
        "colab": {
          "base_uri": "https://localhost:8080/"
        },
        "outputId": "57a0684c-9a20-4b17-d442-d257f6c1654f"
      },
      "execution_count": null,
      "outputs": [
        {
          "output_type": "stream",
          "name": "stdout",
          "text": [
            "Modelo 4, % presición 41.90\n",
            "Modelo 6, % presición 34.30\n",
            "Modelo 8, % presición 28.00\n"
          ]
        }
      ]
    },
    {
      "cell_type": "markdown",
      "metadata": {
        "id": "dySQ3jrQVg3B"
      },
      "source": [
        "## Entrenamiento conjunto de modelos validación cruzada k-fold - Método Regularización Alternante cota Lipschitz"
      ]
    },
    {
      "cell_type": "code",
      "execution_count": null,
      "metadata": {
        "id": "i3UqG5y1RuFy"
      },
      "outputs": [],
      "source": [
        "class CustomLoss(keras.losses.Loss):\n",
        "    def __init__(self, Model=None, name=\"adaptativeRegularLB\"):\n",
        "        super().__init__(name=name)\n",
        "        self.Model = Model\n",
        "\n",
        "    def call(self, y_true, y_pred):\n",
        "        cce = tf.keras.losses.CategoricalCrossentropy()\n",
        "        loss = tf.cast(cce(y_true, y_pred), tf.float32)\n",
        "        loss += self.eig_values_random()  # Ahora devuelve un tensor y lo suma directamente\n",
        "        return loss\n",
        "\n",
        "    def eig_values_random(self):\n",
        "        allLayers = self.Model.layers\n",
        "        nLayers = len(allLayers)\n",
        "\n",
        "        # Evita errores si hay pocas capas\n",
        "        if nLayers < 3:\n",
        "            return tf.constant(0.0, dtype=tf.float32)  # Devuelve un tensor de cero en caso de error\n",
        "\n",
        "        # Seleccionar una capa aleatoria (excluyendo la de entrada)\n",
        "        randomLayer = np.random.choice(np.concatenate(([1], np.arange(2, nLayers, 2))), size=1)[0]\n",
        "\n",
        "        # Verificar si la capa tiene pesos antes de calcular su norma espectral\n",
        "        if len(allLayers[randomLayer].get_weights()) > 0:\n",
        "            EigVal = np.linalg.norm(allLayers[randomLayer].get_weights()[0], ord=2)\n",
        "            EigVal = tf.convert_to_tensor(EigVal, dtype=tf.float32)\n",
        "\n",
        "            # Verificar si la capa tiene variables entrenables antes de agregar la pérdida\n",
        "            if len(allLayers[randomLayer].trainable_variables) > 0:\n",
        "                norm_value = tf.norm(allLayers[randomLayer].trainable_variables[0], ord=2)\n",
        "                return EigVal * norm_value  # Devuelve el valor de pérdida en lugar de usar add_loss()\n",
        "\n",
        "        return tf.constant(0.0, dtype=tf.float32)"
      ]
    },
    {
      "cell_type": "code",
      "execution_count": null,
      "metadata": {
        "id": "2YqMTDOkVdSJ",
        "colab": {
          "base_uri": "https://localhost:8080/"
        },
        "outputId": "bf815818-f914-4f2d-8de6-7f58edb27031"
      },
      "outputs": [
        {
          "output_type": "stream",
          "name": "stdout",
          "text": [
            "Modelo : 4 saltos residuales\n",
            "\n",
            " ----\n",
            "100\n",
            "Modelo : 6 saltos residuales\n",
            "\n",
            " ----\n",
            "100\n",
            "Modelo : 8 saltos residuales\n",
            "\n",
            " ----\n",
            "100\n"
          ]
        }
      ],
      "source": [
        "skips = [4,6,8]\n",
        "n_epochs = 60\n",
        "resultGeneralLB = {}\n",
        "modelLB = {}\n",
        "for skip in skips:\n",
        "\n",
        "  optimizer = tf.keras.optimizers.SGD()\n",
        "  ce_loss = tf.keras.losses.CategoricalCrossentropy()\n",
        "\n",
        "  print(f'Modelo : {skip} saltos residuales')\n",
        "  print(f'\\n ----')\n",
        "  generator = DataGenerator(images=X_train,\n",
        "                            labels=y_train,\n",
        "                            batch_size=100, shuffle=True)\n",
        "  n_batches = len(generator)\n",
        "  print(n_batches)\n",
        "  model = load_model(skip,l.l2(0))\n",
        "\n",
        "\n",
        "  acc_train = np.zeros(shape=(n_epochs,), dtype=np.float32)\n",
        "  LB_1 = np.zeros(shape=(n_epochs,))\n",
        "\n",
        "  for epoch in range(n_epochs):\n",
        "    epoch_acc_avg = tf.keras.metrics.Mean() # Keeping track of the training accuracy\n",
        "    for batch in range(n_batches):\n",
        "      x, y = generator[batch]\n",
        "\n",
        "      with tf.GradientTape() as tape: # Forward pass\n",
        "        y_ = model(x, training=True)\n",
        "        lossC = CustomLoss(Model = model)\n",
        "        loss = lossC(y_true=keras.utils.to_categorical(y, num_classes=10), y_pred=y_)\n",
        "\n",
        "      grad = tape.gradient(loss, model.trainable_variables)\n",
        "      optimizer.apply_gradients(zip(grad, model.trainable_variables)) # Update network weights\n",
        "      epoch_acc_avg(sklearn.metrics.accuracy_score(y_true=y, y_pred=np.argmax(y_, axis=-1)))\n",
        "\n",
        "    generator.on_epoch_end()\n",
        "\n",
        "    acc_train[epoch] = epoch_acc_avg.result()\n",
        "\n",
        "    LB = lipschitz_bound(model.get_weights())\n",
        "    LB_1[epoch]= LB\n",
        "\n",
        "  y_test_ = model(X_test)\n",
        "  acc_test = sklearn.metrics.accuracy_score(y_true=y_test,\n",
        "                                                      y_pred=np.argmax(y_test_, axis=-1))\n",
        "  resultGeneralLB[skip] = [acc_train, acc_test, LB_1]\n",
        "  modelLB[skip] = model\n",
        "pd.DataFrame.to_csv(pd.DataFrame(resultGeneralLB), 'ResultadosExperimentoALBadv.csv')"
      ]
    },
    {
      "cell_type": "markdown",
      "metadata": {
        "id": "OBIpgKW-xnw7"
      },
      "source": [
        "### Evaluación en test de los modelos"
      ]
    },
    {
      "cell_type": "code",
      "execution_count": null,
      "metadata": {
        "colab": {
          "base_uri": "https://localhost:8080/"
        },
        "id": "sVVN0uyM24oe",
        "outputId": "b0ef23c6-4f7f-4819-f84d-05ad1bd9e6be"
      },
      "outputs": [
        {
          "output_type": "stream",
          "name": "stdout",
          "text": [
            "Modelo 4, test 88.98\n",
            "Modelo 6, test 90.02\n",
            "Modelo 8, test 91.93\n"
          ]
        }
      ],
      "source": [
        "for skip in skips:\n",
        "  mean_test = resultGeneralLB[skip][1]\n",
        "  print(f'Modelo {skip}, test {mean_test*100:0.2f}')"
      ]
    },
    {
      "cell_type": "markdown",
      "metadata": {
        "id": "Y-QUV3P6xuDh"
      },
      "source": [
        "### Evaluación en entrenamiento de los modelos"
      ]
    },
    {
      "cell_type": "code",
      "execution_count": null,
      "metadata": {
        "colab": {
          "base_uri": "https://localhost:8080/"
        },
        "id": "FsR96MhqmB8g",
        "outputId": "aec0dd51-1f7f-41b1-b2be-999ddc6155bc"
      },
      "outputs": [
        {
          "output_type": "stream",
          "name": "stdout",
          "text": [
            "Modelo 4, train 90.11\n",
            "Modelo 6, train 91.82\n",
            "Modelo 8, train 94.27\n"
          ]
        }
      ],
      "source": [
        "for skip in skips:\n",
        "  mean_train = resultGeneralLB[skip][0][-1]\n",
        "  print(f'Modelo {skip}, train {mean_train*100:0.2f}')"
      ]
    },
    {
      "cell_type": "markdown",
      "source": [
        "### Evaluación con imágenes adversarias"
      ],
      "metadata": {
        "id": "T2xufu2g51qD"
      }
    },
    {
      "cell_type": "code",
      "source": [
        "print(\"Imagenes originales\")\n",
        "graph_digits(X_test[0:1000], y_test[0:1000])\n",
        "\n",
        "# Loss function\n",
        "loss_function = keras.losses.categorical_crossentropy\n",
        "Eval_models_by_rho_skip = {}\n",
        "\n",
        "for skip in skips:\n",
        "    rho = 0.02\n",
        "    Eval_models_by_rho = {}\n",
        "    model = modelLB[skip]\n",
        "\n",
        "    X_test_attack = np.zeros((1000, 784))\n",
        "    i = 0\n",
        "\n",
        "    for x_test in X_test[0:1000]:\n",
        "        x_tensor = tf.convert_to_tensor(x_test, dtype='float32')\n",
        "        x_tensor = tf.expand_dims(x_tensor, axis=0)\n",
        "        y_tensor = tf.convert_to_tensor(y_test_onehot[i], dtype='float32')\n",
        "        y_tensor = tf.expand_dims(y_tensor, axis=0)\n",
        "\n",
        "        # Generate adversarial example with PGD\n",
        "        x_test_new = pgd_attack(x_tensor, y_tensor, model, epsilon=rho, alpha=0.005, iterations=10)\n",
        "        X_test_attack[i] = scale_image(x_test_new)\n",
        "        i += 1\n",
        "\n",
        "    print(f'Perturbed Images Example')\n",
        "    graph_digits(X_test_attack, y_test[0:1000])\n",
        "\n",
        "    # Evaluate the model on adversarial examples\n",
        "    y_pred = model.predict(X_test_attack)\n",
        "    Eval_models = sklearn.metrics.accuracy_score(y_true=y_test[0:1000], y_pred=np.argmax(y_pred, axis=-1))\n",
        "    Eval_models_by_rho_skip[skip] = Eval_models"
      ],
      "metadata": {
        "id": "GAtoyM4n51Xe",
        "colab": {
          "base_uri": "https://localhost:8080/",
          "height": 1000
        },
        "outputId": "4986094d-b2b6-483e-dfd6-ef61c3fbadc6"
      },
      "execution_count": null,
      "outputs": [
        {
          "output_type": "stream",
          "name": "stdout",
          "text": [
            "Imagenes originales\n"
          ]
        },
        {
          "output_type": "display_data",
          "data": {
            "text/plain": [
              "<Figure size 1000x500 with 10 Axes>"
            ],
            "image/png": "[encoded data removed]"
          },
          "metadata": {}
        },
        {
          "output_type": "stream",
          "name": "stdout",
          "text": [
            "Perturbed Images Example\n"
          ]
        },
        {
          "output_type": "display_data",
          "data": {
            "text/plain": [
              "<Figure size 1000x500 with 10 Axes>"
            ],
            "image/png": "[encoded data removed]"
          },
          "metadata": {}
        },
        {
          "output_type": "stream",
          "name": "stdout",
          "text": [
            "\u001b[1m32/32\u001b[0m \u001b[32m━━━━━━━━━━━━━━━━━━━━\u001b[0m\u001b[37m\u001b[0m \u001b[1m0s\u001b[0m 4ms/step\n",
            "Perturbed Images Example\n"
          ]
        },
        {
          "output_type": "display_data",
          "data": {
            "text/plain": [
              "<Figure size 1000x500 with 10 Axes>"
            ],
            "image/png": "[encoded data removed]"
          },
          "metadata": {}
        },
        {
          "output_type": "stream",
          "name": "stdout",
          "text": [
            "\u001b[1m32/32\u001b[0m \u001b[32m━━━━━━━━━━━━━━━━━━━━\u001b[0m\u001b[37m\u001b[0m \u001b[1m0s\u001b[0m 5ms/step\n",
            "Perturbed Images Example\n"
          ]
        },
        {
          "output_type": "display_data",
          "data": {
            "text/plain": [
              "<Figure size 1000x500 with 10 Axes>"
            ],
            "image/png": "[encoded data removed]"
          },
          "metadata": {}
        },
        {
          "output_type": "stream",
          "name": "stdout",
          "text": [
            "\u001b[1m32/32\u001b[0m \u001b[32m━━━━━━━━━━━━━━━━━━━━\u001b[0m\u001b[37m\u001b[0m \u001b[1m0s\u001b[0m 6ms/step\n"
          ]
        }
      ]
    },
    {
      "cell_type": "code",
      "source": [
        "for skip in skips:\n",
        "    print(f'Modelo {skip},  % presición {Eval_models_by_rho_skip[skip]*100:0.2f}')"
      ],
      "metadata": {
        "id": "5Rsk1i6B5-qH",
        "colab": {
          "base_uri": "https://localhost:8080/"
        },
        "outputId": "94b496b5-a803-4164-9a07-3587a9db6b9b"
      },
      "execution_count": null,
      "outputs": [
        {
          "output_type": "stream",
          "name": "stdout",
          "text": [
            "Modelo 4,  % presición 77.20\n",
            "Modelo 6,  % presición 74.30\n",
            "Modelo 8,  % presición 74.30\n"
          ]
        }
      ]
    },
    {
      "cell_type": "markdown",
      "metadata": {
        "id": "5rgLMKg1jDWn"
      },
      "source": [
        "## Entrenamiento conjunto de modelos validación cruzada k-fold - Método Regularización L2"
      ]
    },
    {
      "cell_type": "markdown",
      "metadata": {
        "id": "NhHu_e6VkEP9"
      },
      "source": [
        "### Sintonización hiper-parámetro"
      ]
    },
    {
      "cell_type": "code",
      "execution_count": null,
      "metadata": {
        "id": "OcTqqO60lLe_"
      },
      "outputs": [],
      "source": [
        "skips = [4, 6, 8]\n",
        "kf = KFold(n_splits=5, shuffle=False)"
      ]
    },
    {
      "cell_type": "code",
      "execution_count": null,
      "metadata": {
        "id": "IZBOrOnkDGk_",
        "colab": {
          "base_uri": "https://localhost:8080/"
        },
        "outputId": "39d10a1a-d1e0-4a79-8d0d-d89dcf9f9783"
      },
      "outputs": [
        {
          "output_type": "stream",
          "name": "stdout",
          "text": [
            "Modelo 4, parametro 0.10000000149011612\n",
            "Kfold 1 acc train 0.8376250267028809, acc test 0.8159999847412109\n",
            "Kfold 2 acc train 0.8458750247955322, acc test 0.8569999933242798\n",
            "Kfold 3 acc train 0.8413749933242798, acc test 0.840499997138977\n",
            "Kfold 4 acc train 0.8322499990463257, acc test 0.824999988079071\n",
            "Kfold 5 acc train 0.8481249809265137, acc test 0.8264999985694885\n",
            "Fin modelo: promedio acc train 0.8410500049591064,std 0.005702846638642575\n",
            "Fin modelo: promedio acc test 0.8329999923706055,std 0.014335273731467877\n",
            "\n",
            "\n",
            "Modelo 4, parametro 0.009999999776482582\n",
            "Kfold 1 acc train 0.9448750019073486, acc test 0.906000018119812\n",
            "Kfold 2 acc train 0.9430000185966492, acc test 0.9309999942779541\n",
            "Kfold 3 acc train 0.9512500166893005, acc test 0.9315000176429749\n",
            "Kfold 4 acc train 0.937125027179718, acc test 0.9160000085830688\n",
            "Kfold 5 acc train 0.9512500166893005, acc test 0.9120000004768372\n",
            "Fin modelo: promedio acc train 0.9455000162124634,std 0.005346140350318817\n",
            "Fin modelo: promedio acc test 0.9193000078201294,std 0.010264499510410398\n",
            "\n",
            "\n",
            "Modelo 4, parametro 0.0010000000474974513\n",
            "Kfold 1 acc train 0.9695000052452087, acc test 0.9169999957084656\n",
            "Kfold 2 acc train 0.9607499837875366, acc test 0.9315000176429749\n",
            "Kfold 3 acc train 0.9645000100135803, acc test 0.9259999990463257\n",
            "Kfold 4 acc train 0.9618750214576721, acc test 0.9235000014305115\n",
            "Kfold 5 acc train 0.968999981880188, acc test 0.9204999804496765\n",
            "Fin modelo: promedio acc train 0.9651250004768371,std 0.0035846867460190166\n",
            "Fin modelo: promedio acc test 0.9236999988555908,std 0.004925453337524196\n",
            "\n",
            "\n",
            "Modelo 4, parametro 9.999999747378752e-05\n",
            "Kfold 1 acc train 0.9700000286102295, acc test 0.9154999852180481\n",
            "Kfold 2 acc train 0.9548749923706055, acc test 0.9265000224113464\n",
            "Kfold 3 acc train 0.9660000205039978, acc test 0.9225000143051147\n",
            "Kfold 4 acc train 0.9662500023841858, acc test 0.9210000038146973\n",
            "Kfold 5 acc train 0.9736250042915344, acc test 0.9200000166893005\n",
            "Fin modelo: promedio acc train 0.9661500096321106,std 0.006290575503505996\n",
            "Fin modelo: promedio acc test 0.9211000084877015,std 0.0035693251512346636\n",
            "\n",
            "\n",
            "Modelo 6, parametro 0.10000000149011612\n",
            "Kfold 1 acc train 0.8621249794960022, acc test 0.8424999713897705\n",
            "Kfold 2 acc train 0.8523749709129333, acc test 0.8489999771118164\n",
            "Kfold 3 acc train 0.8471249938011169, acc test 0.8370000123977661\n",
            "Kfold 4 acc train 0.859624981880188, acc test 0.8495000004768372\n",
            "Kfold 5 acc train 0.8477500081062317, acc test 0.8270000219345093\n",
            "Fin modelo: promedio acc train 0.8537999868392945,std 0.006106136504882361\n",
            "Fin modelo: promedio acc test 0.8409999966621399,std 0.00837256045326803\n",
            "\n",
            "\n",
            "Modelo 6, parametro 0.009999999776482582\n",
            "Kfold 1 acc train 0.9567499756813049, acc test 0.9085000157356262\n",
            "Kfold 2 acc train 0.9611250162124634, acc test 0.9455000162124634\n",
            "Kfold 3 acc train 0.9598749876022339, acc test 0.9340000152587891\n",
            "Kfold 4 acc train 0.9593750238418579, acc test 0.9210000038146973\n",
            "Kfold 5 acc train 0.9266250133514404, acc test 0.8859999775886536\n",
            "Fin modelo: promedio acc train 0.9527500033378601,std 0.013140106686283699\n",
            "Fin modelo: promedio acc test 0.9190000057220459,std 0.02064220182531326\n",
            "\n",
            "\n",
            "Modelo 6, parametro 0.0010000000474974513\n",
            "Kfold 1 acc train 0.9707499742507935, acc test 0.9085000157356262\n",
            "Kfold 2 acc train 0.9750000238418579, acc test 0.9334999918937683\n",
            "Kfold 3 acc train 0.9723749756813049, acc test 0.9369999766349792\n",
            "Kfold 4 acc train 0.9697499871253967, acc test 0.921999990940094\n",
            "Kfold 5 acc train 0.9722499847412109, acc test 0.906000018119812\n",
            "Fin modelo: promedio acc train 0.9720249891281127,std 0.0017790583020837155\n",
            "Fin modelo: promedio acc test 0.921399998664856,std 0.012599191243096143\n",
            "\n",
            "\n",
            "Modelo 6, parametro 9.999999747378752e-05\n",
            "Kfold 1 acc train 0.9573749899864197, acc test 0.8930000066757202\n",
            "Kfold 2 acc train 0.9763749837875366, acc test 0.9350000023841858\n",
            "Kfold 3 acc train 0.9613749980926514, acc test 0.921999990940094\n",
            "Kfold 4 acc train 0.9586250185966492, acc test 0.9010000228881836\n",
            "Kfold 5 acc train 0.9757500290870667, acc test 0.9139999747276306\n",
            "Fin modelo: promedio acc train 0.9659000039100647,std 0.008400299408680522\n",
            "Fin modelo: promedio acc test 0.9129999995231628,std 0.014899658217135096\n",
            "\n",
            "\n",
            "Modelo 8, parametro 0.10000000149011612\n",
            "Kfold 1 acc train 0.8758749961853027, acc test 0.8604999780654907\n",
            "Kfold 2 acc train 0.8733749985694885, acc test 0.8809999823570251\n",
            "Kfold 3 acc train 0.8611249923706055, acc test 0.8514999747276306\n",
            "Kfold 4 acc train 0.8744999766349792, acc test 0.8694999814033508\n",
            "Kfold 5 acc train 0.8604999780654907, acc test 0.8464999794960022\n",
            "Fin modelo: promedio acc train 0.8690749883651734,std 0.0067954974768868175\n",
            "Fin modelo: promedio acc test 0.8617999792098999,std 0.012408063839167422\n",
            "\n",
            "\n",
            "Modelo 8, parametro 0.009999999776482582\n",
            "Kfold 1 acc train 0.9629999995231628, acc test 0.9190000295639038\n",
            "Kfold 2 acc train 0.956125020980835, acc test 0.9290000200271606\n",
            "Kfold 3 acc train 0.9542499780654907, acc test 0.9315000176429749\n",
            "Kfold 4 acc train 0.9599999785423279, acc test 0.9300000071525574\n",
            "Kfold 5 acc train 0.9443749785423279, acc test 0.9020000100135803\n",
            "Fin modelo: promedio acc train 0.9555499911308288,std 0.006359349222364656\n",
            "Fin modelo: promedio acc test 0.9223000168800354,std 0.01106164636454502\n",
            "\n",
            "\n",
            "Modelo 8, parametro 0.0010000000474974513\n",
            "Kfold 1 acc train 0.9677500128746033, acc test 0.9010000228881836\n",
            "Kfold 2 acc train 0.972000002861023, acc test 0.9334999918937683\n",
            "Kfold 3 acc train 0.9484999775886536, acc test 0.8955000042915344\n",
            "Kfold 4 acc train 0.9682499766349792, acc test 0.9169999957084656\n",
            "Kfold 5 acc train 0.9643750190734863, acc test 0.902999997138977\n",
            "Fin modelo: promedio acc train 0.964174997806549,std 0.008201989473660284\n",
            "Fin modelo: promedio acc test 0.9100000023841858,std 0.013722237882639649\n",
            "\n",
            "\n",
            "Modelo 8, parametro 9.999999747378752e-05\n",
            "Kfold 1 acc train 0.9559999704360962, acc test 0.8914999961853027\n",
            "Kfold 2 acc train 0.9819999933242798, acc test 0.9355000257492065\n",
            "Kfold 3 acc train 0.9706249833106995, acc test 0.9100000262260437\n",
            "Kfold 4 acc train 0.9700000286102295, acc test 0.9175000190734863\n",
            "Kfold 5 acc train 0.9783750176429749, acc test 0.9150000214576721\n",
            "Fin modelo: promedio acc train 0.9713999986648559,std 0.008952454534087948\n",
            "Fin modelo: promedio acc test 0.9139000177383423,std 0.014125871748232858\n",
            "\n",
            "\n"
          ]
        }
      ],
      "source": [
        "param_grid = [ l.l2(0.1), l.l2(0.01), l.l2(0.001), l.l2(0.0001)]\n",
        "for skip in skips:\n",
        "  for param in param_grid:\n",
        "    print(f'Modelo {skip}, parametro {param.l2}')\n",
        "    i = 0\n",
        "    acc_train = []\n",
        "    acc_test = []\n",
        "    for train_index, test_index in kf.split(X_train):\n",
        "      model = load_model(skip,param)\n",
        "      model.compile(loss='categorical_crossentropy',\n",
        "                  optimizer='SGD',\n",
        "                  metrics=['accuracy'])\n",
        "      model.fit(X_train[train_index],\n",
        "                y_train_onehot[train_index],\n",
        "                epochs = 20, verbose = 0)\n",
        "      acc_train.append(model.evaluate(X_train[train_index], y_train_onehot[train_index],verbose = 0)[1])\n",
        "      acc_test.append(model.evaluate(X_train[test_index], y_train_onehot[test_index], verbose = 0)[1])\n",
        "      print(f'Kfold {i+1} acc train {acc_train[i]}, acc test {acc_test[i]}')\n",
        "      i+=1\n",
        "    print(f'Fin modelo: promedio acc train {np.mean(acc_train)},std {np.std(acc_train)}')\n",
        "    print(f'Fin modelo: promedio acc test {np.mean(acc_test)},std {np.std(acc_test)}')\n",
        "    print('\\n')"
      ]
    },
    {
      "cell_type": "code",
      "execution_count": null,
      "metadata": {
        "colab": {
          "base_uri": "https://localhost:8080/"
        },
        "id": "3TQdUa__LAyT",
        "outputId": "461bf001-fdaa-4d75-b7cc-c2d81251d924"
      },
      "outputs": [
        {
          "output_type": "execute_result",
          "data": {
            "text/plain": [
              "{4: <keras.src.regularizers.regularizers.L2 at 0x78f6616d2c10>,\n",
              " 6: <keras.src.regularizers.regularizers.L2 at 0x78f661686c10>,\n",
              " 8: <keras.src.regularizers.regularizers.L2 at 0x78f66173cf10>}"
            ]
          },
          "metadata": {},
          "execution_count": 36
        }
      ],
      "source": [
        "regularParameters = {4: l.l2(0.001), 6: l.l2(0.001), 8: l.l2(0.01)}\n",
        "regularParameters"
      ]
    },
    {
      "cell_type": "markdown",
      "metadata": {
        "id": "aNzsrdJyPYcL"
      },
      "source": [
        "### Entrenamiento"
      ]
    },
    {
      "cell_type": "code",
      "execution_count": null,
      "metadata": {
        "colab": {
          "base_uri": "https://localhost:8080/"
        },
        "id": "1shjA81F__D8",
        "outputId": "50e3f5be-a98e-45f2-c812-b4abb942f576"
      },
      "outputs": [
        {
          "output_type": "stream",
          "name": "stdout",
          "text": [
            "Modelo : 4 saltos residuales\n",
            "\n",
            "Iniciando Entrenamiento\n",
            "\n",
            " ----\n",
            "100\n",
            "Modelo : 6 saltos residuales\n",
            "\n",
            "Iniciando Entrenamiento\n",
            "\n",
            " ----\n",
            "100\n",
            "Modelo : 8 saltos residuales\n",
            "\n",
            "Iniciando Entrenamiento\n",
            "\n",
            " ----\n",
            "100\n"
          ]
        }
      ],
      "source": [
        "skips = [4,6,8]\n",
        "n_epochs = 60\n",
        "resultGeneralL2 = {}\n",
        "modelL2 = {}\n",
        "\n",
        "for skip in skips:\n",
        "\n",
        "  optimizer = tf.keras.optimizers.SGD()\n",
        "  ce_loss = tf.keras.losses.CategoricalCrossentropy()\n",
        "\n",
        "  print(f'Modelo : {skip} saltos residuales')\n",
        "  print(f'\\nIniciando Entrenamiento')\n",
        "  print(f'\\n ----')\n",
        "\n",
        "  generator = DataGenerator(images=X_train,\n",
        "                            labels=y_train,\n",
        "                            batch_size=100, shuffle=True)\n",
        "  n_batches = len(generator)\n",
        "  print(n_batches)\n",
        "  model = load_model(skip,regularParameters[skip])\n",
        "  model.compile(optimizer=optimizer,\n",
        "                loss = tf.keras.losses.CategoricalCrossentropy(),\n",
        "                metrics =['accuracy'])\n",
        "\n",
        "  acc_train = np.zeros(shape=(n_epochs,), dtype=np.float32)\n",
        "  LB_1 = np.zeros(shape=(n_epochs,))\n",
        "\n",
        "  for epoch in range(n_epochs):\n",
        "    epoch_acc_avg = tf.keras.metrics.Mean()\n",
        "\n",
        "    for batch in range(n_batches):\n",
        "      x, y = generator[batch]\n",
        "      with tf.GradientTape() as tape: # Forward pass\n",
        "        y_ = model(x, training=True)\n",
        "        loss = ce_loss(y_true=keras.utils.to_categorical(y, num_classes=10), y_pred=y_)\n",
        "        loss += tf.add_n(model.losses)\n",
        "      grad = tape.gradient(loss, model.trainable_variables)\n",
        "      optimizer.apply_gradients(zip(grad, model.trainable_variables)) # Update network weights\n",
        "      epoch_acc_avg(sklearn.metrics.accuracy_score(y_true=y, y_pred=np.argmax(y_, axis=-1)))\n",
        "\n",
        "    generator.on_epoch_end()\n",
        "    acc_train[epoch] = epoch_acc_avg.result()\n",
        "    LB_1[epoch] = lipschitz_bound(model.get_weights())\n",
        "\n",
        "  y_test_ = model(X_test)\n",
        "  acc_test = sklearn.metrics.accuracy_score(y_true=y_test,\n",
        "                                                    y_pred=np.argmax(y_test_, axis=-1))\n",
        "\n",
        "  resultGeneralL2[skip] = [acc_train, acc_test, LB_1]\n",
        "  modelL2[skip] = model\n",
        "pd.DataFrame.to_csv(pd.DataFrame(resultGeneralL2), 'ResultadosExperimentoAL2adv.csv')"
      ]
    },
    {
      "cell_type": "markdown",
      "metadata": {
        "id": "ZqYonK69QB3Q"
      },
      "source": [
        "### Evaluación en test de los modelos"
      ]
    },
    {
      "cell_type": "code",
      "execution_count": null,
      "metadata": {
        "colab": {
          "base_uri": "https://localhost:8080/"
        },
        "id": "xxQyD2z_QHWJ",
        "outputId": "464f694c-3bde-4311-f9a4-6aea11574b8f"
      },
      "outputs": [
        {
          "output_type": "stream",
          "name": "stdout",
          "text": [
            "Modelo 4, test 92.99\n",
            "Modelo 6, test 91.70\n",
            "Modelo 8, test 92.39\n"
          ]
        }
      ],
      "source": [
        "for skip in skips:\n",
        "  mean_test = resultGeneralL2[skip][1]\n",
        "  print(f'Modelo {skip}, test {mean_test*100:0.2f}')"
      ]
    },
    {
      "cell_type": "markdown",
      "metadata": {
        "id": "5WrqPTMkQHpQ"
      },
      "source": [
        "### Evaluación en entrenamiento de los modelos"
      ]
    },
    {
      "cell_type": "code",
      "execution_count": null,
      "metadata": {
        "colab": {
          "base_uri": "https://localhost:8080/"
        },
        "id": "m-xrL8HkQVHB",
        "outputId": "4b533ba5-744d-4130-d90a-fff294a6f4db"
      },
      "outputs": [
        {
          "output_type": "stream",
          "name": "stdout",
          "text": [
            "Modelo 4, train 96.84\n",
            "Modelo 6, train 97.21\n",
            "Modelo 8, train 96.23\n"
          ]
        }
      ],
      "source": [
        "for skip in skips:\n",
        "  mean_train = resultGeneralL2[skip][0][-1]\n",
        "  print(f'Modelo {skip}, train {mean_train*100:0.2f}')"
      ]
    },
    {
      "cell_type": "markdown",
      "source": [
        "### Evaluación con imágenes adversarias"
      ],
      "metadata": {
        "id": "AfS046vJRpOU"
      }
    },
    {
      "cell_type": "code",
      "source": [
        "print(\"Imagenes originales\")\n",
        "graph_digits(X_test[0:1000], y_test[0:1000])\n",
        "\n",
        "# Loss function\n",
        "loss_function = keras.losses.categorical_crossentropy\n",
        "Eval_models_by_rho_skip = {}\n",
        "\n",
        "for skip in skips:\n",
        "    rho = 0.02\n",
        "    Eval_models_by_rho = {}\n",
        "    model = modelL2[skip]\n",
        "\n",
        "    X_test_attack = np.zeros((1000, 784))\n",
        "    i = 0\n",
        "\n",
        "    for x_test in X_test[0:1000]:\n",
        "        x_tensor = tf.convert_to_tensor(x_test, dtype='float32')\n",
        "        x_tensor = tf.expand_dims(x_tensor, axis=0)\n",
        "        y_tensor = tf.convert_to_tensor(y_test_onehot[i], dtype='float32')\n",
        "        y_tensor = tf.expand_dims(y_tensor, axis=0)\n",
        "\n",
        "        # Generate adversarial example with PGD\n",
        "        x_test_new = pgd_attack(x_tensor, y_tensor, model, epsilon=rho, alpha=0.005, iterations=10)\n",
        "        X_test_attack[i] = scale_image(x_test_new)\n",
        "        i += 1\n",
        "\n",
        "    print(f'Perturbed Images Example')\n",
        "    graph_digits(X_test_attack, y_test[0:1000])\n",
        "\n",
        "    # Evaluate the model on adversarial examples\n",
        "    y_pred = model.predict(X_test_attack)\n",
        "    Eval_models = sklearn.metrics.accuracy_score(y_true=y_test[0:1000], y_pred=np.argmax(y_pred, axis=-1))\n",
        "    Eval_models_by_rho_skip[skip] = Eval_models"
      ],
      "metadata": {
        "colab": {
          "base_uri": "https://localhost:8080/",
          "height": 1000
        },
        "id": "QRWkTrb_RsFZ",
        "outputId": "9433e4f4-7a40-4bc6-c0ca-ab5779921006"
      },
      "execution_count": null,
      "outputs": [
        {
          "output_type": "stream",
          "name": "stdout",
          "text": [
            "Imagenes originales\n"
          ]
        },
        {
          "output_type": "display_data",
          "data": {
            "text/plain": [
              "<Figure size 1000x500 with 10 Axes>"
            ],
            "image/png": "[encoded data removed]"
          },
          "metadata": {}
        },
        {
          "output_type": "stream",
          "name": "stdout",
          "text": [
            "Perturbed Images Example\n"
          ]
        },
        {
          "output_type": "display_data",
          "data": {
            "text/plain": [
              "<Figure size 1000x500 with 10 Axes>"
            ],
            "image/png": "[encoded data removed]"
          },
          "metadata": {}
        },
        {
          "output_type": "stream",
          "name": "stdout",
          "text": [
            "\u001b[1m32/32\u001b[0m \u001b[32m━━━━━━━━━━━━━━━━━━━━\u001b[0m\u001b[37m\u001b[0m \u001b[1m0s\u001b[0m 4ms/step\n",
            "Perturbed Images Example\n"
          ]
        },
        {
          "output_type": "display_data",
          "data": {
            "text/plain": [
              "<Figure size 1000x500 with 10 Axes>"
            ],
            "image/png": "[encoded data removed]"
          },
          "metadata": {}
        },
        {
          "output_type": "stream",
          "name": "stdout",
          "text": [
            "\u001b[1m32/32\u001b[0m \u001b[32m━━━━━━━━━━━━━━━━━━━━\u001b[0m\u001b[37m\u001b[0m \u001b[1m0s\u001b[0m 5ms/step\n",
            "Perturbed Images Example\n"
          ]
        },
        {
          "output_type": "display_data",
          "data": {
            "text/plain": [
              "<Figure size 1000x500 with 10 Axes>"
            ],
            "image/png": "[encoded data removed]"
          },
          "metadata": {}
        },
        {
          "output_type": "stream",
          "name": "stdout",
          "text": [
            "\u001b[1m32/32\u001b[0m \u001b[32m━━━━━━━━━━━━━━━━━━━━\u001b[0m\u001b[37m\u001b[0m \u001b[1m0s\u001b[0m 5ms/step\n"
          ]
        }
      ]
    },
    {
      "cell_type": "code",
      "source": [
        "for skip in skips:\n",
        "    print(f'Modelo {skip}, % presición {Eval_models_by_rho_skip[skip]*100:0.2f}')"
      ],
      "metadata": {
        "colab": {
          "base_uri": "https://localhost:8080/"
        },
        "id": "SuGs5pP_TFUu",
        "outputId": "9b43f9e4-a8ea-468c-d90d-070d605f2fec"
      },
      "execution_count": null,
      "outputs": [
        {
          "output_type": "stream",
          "name": "stdout",
          "text": [
            "Modelo 4, % presición 47.70\n",
            "Modelo 6, % presición 35.20\n",
            "Modelo 8, % presición 62.30\n"
          ]
        }
      ]
    },
    {
      "cell_type": "markdown",
      "metadata": {
        "id": "EYfH6p1Rzd3W"
      },
      "source": [
        "## Entrenamiento conjunto de modelos validación cruzada k-fold - Método Regularización L1"
      ]
    },
    {
      "cell_type": "markdown",
      "metadata": {
        "id": "eOQ13YlXz1rj"
      },
      "source": [
        "### Sintonización hiper-parámetro"
      ]
    },
    {
      "cell_type": "code",
      "execution_count": null,
      "metadata": {
        "id": "QKVcp7SLzhlI"
      },
      "outputs": [],
      "source": [
        "skips = [4, 6, 8]\n",
        "kf = KFold(n_splits=5, shuffle=False)"
      ]
    },
    {
      "cell_type": "code",
      "execution_count": null,
      "metadata": {
        "id": "fDAvDtMszkMe",
        "colab": {
          "base_uri": "https://localhost:8080/"
        },
        "outputId": "f87f6db3-daa7-4cf4-d981-e467e047b015"
      },
      "outputs": [
        {
          "output_type": "stream",
          "name": "stdout",
          "text": [
            "Modelo 4, parametro 0.10000000149011612\n",
            "Kfold 1 acc train 0.11337500065565109, acc test 0.10999999940395355\n",
            "Kfold 2 acc train 0.11287499964237213, acc test 0.1120000034570694\n",
            "Kfold 3 acc train 0.11249999701976776, acc test 0.11349999904632568\n",
            "Kfold 4 acc train 0.11150000244379044, acc test 0.11749999970197678\n",
            "Kfold 5 acc train 0.1132500022649765, acc test 0.11050000041723251\n",
            "Fin modelo: promedio acc train 0.11270000040531158,std 0.0006736094682305085\n",
            "Fin modelo: promedio acc test 0.11270000040531158,std 0.002694438425944872\n",
            "\n",
            "\n",
            "Modelo 4, parametro 0.009999999776482582\n",
            "Kfold 1 acc train 0.8958749771118164, acc test 0.8634999990463257\n",
            "Kfold 2 acc train 0.8834999799728394, acc test 0.8769999742507935\n",
            "Kfold 3 acc train 0.9014999866485596, acc test 0.8920000195503235\n",
            "Kfold 4 acc train 0.8878750205039978, acc test 0.871999979019165\n",
            "Kfold 5 acc train 0.8891249895095825, acc test 0.8615000247955322\n",
            "Fin modelo: promedio acc train 0.8915749907493591,std 0.0063544238330290916\n",
            "Fin modelo: promedio acc test 0.873199999332428,std 0.010957189676555972\n",
            "\n",
            "\n",
            "Modelo 4, parametro 0.0010000000474974513\n",
            "Kfold 1 acc train 0.9831249713897705, acc test 0.9300000071525574\n",
            "Kfold 2 acc train 0.9742500185966492, acc test 0.9340000152587891\n",
            "Kfold 3 acc train 0.9822499752044678, acc test 0.9369999766349792\n",
            "Kfold 4 acc train 0.9816250205039978, acc test 0.9244999885559082\n",
            "Kfold 5 acc train 0.9729999899864197, acc test 0.9179999828338623\n",
            "Fin modelo: promedio acc train 0.978849995136261,std 0.004310879182765518\n",
            "Fin modelo: promedio acc test 0.9286999940872193,std 0.006794118868069167\n",
            "\n",
            "\n",
            "Modelo 4, parametro 9.999999747378752e-05\n",
            "Kfold 1 acc train 0.9990000128746033, acc test 0.9240000247955322\n",
            "Kfold 2 acc train 0.9982500076293945, acc test 0.9355000257492065\n",
            "Kfold 3 acc train 0.9975000023841858, acc test 0.9315000176429749\n",
            "Kfold 4 acc train 0.9983749985694885, acc test 0.921500027179718\n",
            "Kfold 5 acc train 0.9990000128746033, acc test 0.9150000214576721\n",
            "Fin modelo: promedio acc train 0.9984250068664551,std 0.0005567805085971636\n",
            "Fin modelo: promedio acc test 0.9255000233650208,std 0.0072732384020384264\n",
            "\n",
            "\n",
            "Modelo 6, parametro 0.10000000149011612\n",
            "Kfold 1 acc train 0.11337500065565109, acc test 0.10999999940395355\n",
            "Kfold 2 acc train 0.11287499964237213, acc test 0.1120000034570694\n",
            "Kfold 3 acc train 0.11249999701976776, acc test 0.11349999904632568\n",
            "Kfold 4 acc train 0.11150000244379044, acc test 0.11749999970197678\n",
            "Kfold 5 acc train 0.1132500022649765, acc test 0.11050000041723251\n",
            "Fin modelo: promedio acc train 0.11270000040531158,std 0.0006736094682305085\n",
            "Fin modelo: promedio acc test 0.11270000040531158,std 0.002694438425944872\n",
            "\n",
            "\n",
            "Modelo 6, parametro 0.009999999776482582\n",
            "Kfold 1 acc train 0.8868749737739563, acc test 0.8694999814033508\n",
            "Kfold 2 acc train 0.8648750185966492, acc test 0.8619999885559082\n",
            "Kfold 3 acc train 0.8507500290870667, acc test 0.8339999914169312\n",
            "Kfold 4 acc train 0.8686249852180481, acc test 0.8519999980926514\n",
            "Kfold 5 acc train 0.8268749713897705, acc test 0.8119999766349792\n",
            "Fin modelo: promedio acc train 0.8595999956130982,std 0.020012245533427748\n",
            "Fin modelo: promedio acc test 0.8458999872207642,std 0.020708454886323505\n",
            "\n",
            "\n",
            "Modelo 6, parametro 0.0010000000474974513\n",
            "Kfold 1 acc train 0.9871249794960022, acc test 0.9240000247955322\n",
            "Kfold 2 acc train 0.9728749990463257, acc test 0.9369999766349792\n",
            "Kfold 3 acc train 0.968999981880188, acc test 0.9154999852180481\n",
            "Kfold 4 acc train 0.9706249833106995, acc test 0.9200000166893005\n",
            "Kfold 5 acc train 0.9862499833106995, acc test 0.9229999780654907\n",
            "Fin modelo: promedio acc train 0.977174985408783,std 0.007868685559230891\n",
            "Fin modelo: promedio acc test 0.9238999962806702,std 0.007186091433317517\n",
            "\n",
            "\n",
            "Modelo 6, parametro 9.999999747378752e-05\n",
            "Kfold 1 acc train 0.9981250166893005, acc test 0.9144999980926514\n",
            "Kfold 2 acc train 1.0, acc test 0.9334999918937683\n",
            "Kfold 3 acc train 0.999750018119812, acc test 0.9300000071525574\n",
            "Kfold 4 acc train 0.9966250061988831, acc test 0.9175000190734863\n",
            "Kfold 5 acc train 0.9993749856948853, acc test 0.921500027179718\n",
            "Fin modelo: promedio acc train 0.9987750053405762,std 0.0012534927057558172\n",
            "Fin modelo: promedio acc test 0.9234000086784363,std 0.00725533784560667\n",
            "\n",
            "\n",
            "Modelo 8, parametro 0.10000000149011612\n",
            "Kfold 1 acc train 0.11337500065565109, acc test 0.10999999940395355\n",
            "Kfold 2 acc train 0.11287499964237213, acc test 0.1120000034570694\n",
            "Kfold 3 acc train 0.11249999701976776, acc test 0.11349999904632568\n",
            "Kfold 4 acc train 0.11150000244379044, acc test 0.11749999970197678\n",
            "Kfold 5 acc train 0.1132500022649765, acc test 0.11050000041723251\n",
            "Fin modelo: promedio acc train 0.11270000040531158,std 0.0006736094682305085\n",
            "Fin modelo: promedio acc test 0.11270000040531158,std 0.002694438425944872\n",
            "\n",
            "\n",
            "Modelo 8, parametro 0.009999999776482582\n",
            "Kfold 1 acc train 0.8558750152587891, acc test 0.8414999842643738\n",
            "Kfold 2 acc train 0.8783749938011169, acc test 0.8654999732971191\n",
            "Kfold 3 acc train 0.8838750123977661, acc test 0.8679999709129333\n",
            "Kfold 4 acc train 0.8896250128746033, acc test 0.8715000152587891\n",
            "Kfold 5 acc train 0.8317499756813049, acc test 0.796999990940094\n",
            "Fin modelo: promedio acc train 0.8679000020027161,std 0.021393116729043846\n",
            "Fin modelo: promedio acc test 0.8486999869346619,std 0.027925972997236027\n",
            "\n",
            "\n",
            "Modelo 8, parametro 0.0010000000474974513\n",
            "Kfold 1 acc train 0.9865000247955322, acc test 0.9275000095367432\n",
            "Kfold 2 acc train 0.9726250171661377, acc test 0.9319999814033508\n",
            "Kfold 3 acc train 0.9613749980926514, acc test 0.9075000286102295\n",
            "Kfold 4 acc train 0.9713749885559082, acc test 0.9144999980926514\n",
            "Kfold 5 acc train 0.9639999866485596, acc test 0.906499981880188\n",
            "Fin modelo: promedio acc train 0.9711750030517579,std 0.00876949011249348\n",
            "Fin modelo: promedio acc test 0.9175999999046326,std 0.010394224255848612\n",
            "\n",
            "\n",
            "Modelo 8, parametro 9.999999747378752e-05\n",
            "Kfold 1 acc train 0.9884999990463257, acc test 0.8980000019073486\n",
            "Kfold 2 acc train 0.9815000295639038, acc test 0.9204999804496765\n",
            "Kfold 3 acc train 0.9833750128746033, acc test 0.9104999899864197\n",
            "Kfold 4 acc train 0.968999981880188, acc test 0.8924999833106995\n",
            "Kfold 5 acc train 0.9911249876022339, acc test 0.9035000205039978\n",
            "Fin modelo: promedio acc train 0.9827000021934509,std 0.007670807948928352\n",
            "Fin modelo: promedio acc test 0.9049999952316284,std 0.00977752128925628\n",
            "\n",
            "\n"
          ]
        }
      ],
      "source": [
        "param_grid = [ l.l1(0.1), l.l1(0.01), l.l1(0.001), l.l1(0.0001)]\n",
        "for skip in skips:\n",
        "  for param in param_grid:\n",
        "    print(f'Modelo {skip}, parametro {param.l1}')\n",
        "    i = 0\n",
        "    acc_train = []\n",
        "    acc_test = []\n",
        "    for train_index, test_index in kf.split(X_train):\n",
        "      model = load_model(skip,param)\n",
        "      model.compile(loss='categorical_crossentropy',\n",
        "                  optimizer='SGD',\n",
        "                  metrics=['accuracy'])\n",
        "      model.fit(X_train[train_index],\n",
        "                y_train_onehot[train_index],\n",
        "                epochs = 60, verbose = 0)\n",
        "      acc_train.append(model.evaluate(X_train[train_index], y_train_onehot[train_index],verbose = 0)[1])\n",
        "      acc_test.append(model.evaluate(X_train[test_index], y_train_onehot[test_index], verbose = 0)[1])\n",
        "      print(f'Kfold {i+1} acc train {acc_train[i]}, acc test {acc_test[i]}')\n",
        "      i+=1\n",
        "    print(f'Fin modelo: promedio acc train {np.mean(acc_train)},std {np.std(acc_train)}')\n",
        "    print(f'Fin modelo: promedio acc test {np.mean(acc_test)},std {np.std(acc_test)}')\n",
        "    print('\\n')"
      ]
    },
    {
      "cell_type": "code",
      "execution_count": null,
      "metadata": {
        "colab": {
          "base_uri": "https://localhost:8080/"
        },
        "id": "0Uvcvt4sztWS",
        "outputId": "7959d24f-e0a3-4cbd-a42a-408d1dbece07"
      },
      "outputs": [
        {
          "output_type": "execute_result",
          "data": {
            "text/plain": [
              "{4: <keras.src.regularizers.regularizers.L1 at 0x78f662788850>,\n",
              " 6: <keras.src.regularizers.regularizers.L1 at 0x78f6634971d0>,\n",
              " 8: <keras.src.regularizers.regularizers.L1 at 0x78f68473c590>}"
            ]
          },
          "metadata": {},
          "execution_count": 40
        }
      ],
      "source": [
        "regularParameters = {4: l.l1(0.0001), 6: l.l1(0.001), 8: l.l1(0.001)}\n",
        "regularParameters"
      ]
    },
    {
      "cell_type": "markdown",
      "metadata": {
        "id": "n8Mf5eO6zw9y"
      },
      "source": [
        "### Entrenamiento"
      ]
    },
    {
      "cell_type": "code",
      "execution_count": null,
      "metadata": {
        "colab": {
          "base_uri": "https://localhost:8080/"
        },
        "id": "Ht44PJtBz-3o",
        "outputId": "c002b1c1-7380-4ee7-f71e-33b020747afa"
      },
      "outputs": [
        {
          "output_type": "stream",
          "name": "stdout",
          "text": [
            "Modelo : 4 saltos residuales\n",
            "\n",
            " ----\n",
            "100\n",
            "Modelo : 6 saltos residuales\n",
            "\n",
            " ----\n",
            "100\n",
            "Modelo : 8 saltos residuales\n",
            "\n",
            " ----\n",
            "100\n"
          ]
        }
      ],
      "source": [
        "skips = [4,6,8]\n",
        "n_epochs = 60\n",
        "resultGeneralL1 = {}\n",
        "modelL1 = {}\n",
        "\n",
        "for skip in skips:\n",
        "\n",
        "  optimizer = tf.keras.optimizers.SGD()\n",
        "  ce_loss = tf.keras.losses.CategoricalCrossentropy()\n",
        "\n",
        "  print(f'Modelo : {skip} saltos residuales')\n",
        "  print(f'\\n ----')\n",
        "\n",
        "  generator = DataGenerator(images=X_train,\n",
        "                            labels=y_train,\n",
        "                            batch_size=100, shuffle=True)\n",
        "  n_batches = len(generator)\n",
        "  print(n_batches)\n",
        "  model = load_model(skip,regularParameters[skip])\n",
        "  model.compile(optimizer=optimizer,\n",
        "                loss = tf.keras.losses.CategoricalCrossentropy(),\n",
        "                metrics =['accuracy'])\n",
        "\n",
        "  acc_train = np.zeros(shape=(n_epochs,), dtype=np.float32)\n",
        "  LB_1 = np.zeros(shape=(n_epochs,))\n",
        "\n",
        "  for epoch in range(n_epochs):\n",
        "    epoch_acc_avg = tf.keras.metrics.Mean()\n",
        "\n",
        "    for batch in range(n_batches):\n",
        "      x, y = generator[batch]\n",
        "      with tf.GradientTape() as tape: # Forward pass\n",
        "        y_ = model(x, training=True)\n",
        "        loss = ce_loss(y_true=keras.utils.to_categorical(y, num_classes=10), y_pred=y_)\n",
        "        loss += tf.add_n(model.losses)\n",
        "      grad = tape.gradient(loss, model.trainable_variables)\n",
        "      optimizer.apply_gradients(zip(grad, model.trainable_variables)) # Update network weights\n",
        "      epoch_acc_avg(sklearn.metrics.accuracy_score(y_true=y, y_pred=np.argmax(y_, axis=-1)))\n",
        "\n",
        "    generator.on_epoch_end()\n",
        "    acc_train[epoch] = epoch_acc_avg.result()\n",
        "    LB_1[epoch] = lipschitz_bound(model.get_weights())\n",
        "\n",
        "  y_test_ = model(X_test)\n",
        "  acc_test = sklearn.metrics.accuracy_score(y_true=y_test,\n",
        "                                                    y_pred=np.argmax(y_test_, axis=-1))\n",
        "\n",
        "  resultGeneralL1[skip] = [acc_train, acc_test, LB_1]\n",
        "  modelL1[skip] = model\n",
        "pd.DataFrame.to_csv(pd.DataFrame(resultGeneralL1), 'ResultadosExperimentoAL1adv.csv')"
      ]
    },
    {
      "cell_type": "markdown",
      "metadata": {
        "id": "NDM7KNCC0R1-"
      },
      "source": [
        "### Evaluación en test de los modelos"
      ]
    },
    {
      "cell_type": "code",
      "execution_count": null,
      "metadata": {
        "id": "TiATDQfy0LRI",
        "colab": {
          "base_uri": "https://localhost:8080/"
        },
        "outputId": "e0c97c3c-61d3-4b99-b4de-5bd24fa0565b"
      },
      "outputs": [
        {
          "output_type": "stream",
          "name": "stdout",
          "text": [
            "Modelo 4, test 92.68\n",
            "Modelo 6, test 92.62\n",
            "Modelo 8, test 91.73\n"
          ]
        }
      ],
      "source": [
        "for skip in skips:\n",
        "  mean_test = resultGeneralL1[skip][1]\n",
        "  print(f'Modelo {skip}, test {mean_test*100:0.2f}')"
      ]
    },
    {
      "cell_type": "markdown",
      "metadata": {
        "id": "cYGvF7nL0S5I"
      },
      "source": [
        "### Evaluación en entrenamiento de los modelos"
      ]
    },
    {
      "cell_type": "code",
      "execution_count": null,
      "metadata": {
        "id": "5k6wX1CW0OVb",
        "colab": {
          "base_uri": "https://localhost:8080/"
        },
        "outputId": "7b8bf59c-5386-4283-e881-88a66a366c36"
      },
      "outputs": [
        {
          "output_type": "stream",
          "name": "stdout",
          "text": [
            "Modelo 4, train 97.30\n",
            "Modelo 6, train 97.16\n",
            "Modelo 8, train 95.81\n"
          ]
        }
      ],
      "source": [
        "for skip in skips:\n",
        "  mean_train = resultGeneralL1[skip][0][-1]\n",
        "  print(f'Modelo {skip}, train {mean_train*100:0.2f}')"
      ]
    },
    {
      "cell_type": "markdown",
      "source": [
        "### Evaluación con imágenes adversarias"
      ],
      "metadata": {
        "id": "X-x3eWpYUWv6"
      }
    },
    {
      "cell_type": "code",
      "source": [
        "print(\"Imagenes originales\")\n",
        "graph_digits(X_test[0:1000], y_test[0:1000])\n",
        "\n",
        "# Loss function\n",
        "loss_function = keras.losses.categorical_crossentropy\n",
        "Eval_models_by_rho_skip = {}\n",
        "\n",
        "for skip in skips:\n",
        "    rho = 0.02\n",
        "    Eval_models_by_rho = {}\n",
        "    model = modelL1[skip]\n",
        "\n",
        "    X_test_attack = np.zeros((1000, 784))\n",
        "    i = 0\n",
        "\n",
        "    for x_test in X_test[0:1000]:\n",
        "        x_tensor = tf.convert_to_tensor(x_test, dtype='float32')\n",
        "        x_tensor = tf.expand_dims(x_tensor, axis=0)\n",
        "        y_tensor = tf.convert_to_tensor(y_test_onehot[i], dtype='float32')\n",
        "        y_tensor = tf.expand_dims(y_tensor, axis=0)\n",
        "\n",
        "        # Generate adversarial example with PGD\n",
        "        x_test_new = pgd_attack(x_tensor, y_tensor, model, epsilon=rho, alpha=0.005, iterations=10)\n",
        "        X_test_attack[i] = scale_image(x_test_new)\n",
        "        i += 1\n",
        "\n",
        "    print(f'Perturbed Images Example')\n",
        "    graph_digits(X_test_attack, y_test[0:1000])\n",
        "\n",
        "    # Evaluate the model on adversarial examples\n",
        "    y_pred = model.predict(X_test_attack)\n",
        "    Eval_models = sklearn.metrics.accuracy_score(y_true=y_test[0:1000], y_pred=np.argmax(y_pred, axis=-1))\n",
        "    Eval_models_by_rho_skip[skip] = Eval_models"
      ],
      "metadata": {
        "colab": {
          "base_uri": "https://localhost:8080/",
          "height": 1000
        },
        "id": "TTfZ8LhaUXUP",
        "outputId": "83df72ef-5f98-4b5a-abba-95bfa2fe855f"
      },
      "execution_count": null,
      "outputs": [
        {
          "output_type": "stream",
          "name": "stdout",
          "text": [
            "Imagenes originales\n"
          ]
        },
        {
          "output_type": "display_data",
          "data": {
            "text/plain": [
              "<Figure size 1000x500 with 10 Axes>"
            ],
            "image/png": "[encoded data removed]"
          },
          "metadata": {}
        },
        {
          "output_type": "stream",
          "name": "stdout",
          "text": [
            "Perturbed Images Example\n"
          ]
        },
        {
          "output_type": "display_data",
          "data": {
            "text/plain": [
              "<Figure size 1000x500 with 10 Axes>"
            ],
            "image/png": "[encoded data removed]"
          },
          "metadata": {}
        },
        {
          "output_type": "stream",
          "name": "stdout",
          "text": [
            "\u001b[1m32/32\u001b[0m \u001b[32m━━━━━━━━━━━━━━━━━━━━\u001b[0m\u001b[37m\u001b[0m \u001b[1m0s\u001b[0m 4ms/step\n",
            "Perturbed Images Example\n"
          ]
        },
        {
          "output_type": "display_data",
          "data": {
            "text/plain": [
              "<Figure size 1000x500 with 10 Axes>"
            ],
            "image/png": "[encoded data removed]"
          },
          "metadata": {}
        },
        {
          "output_type": "stream",
          "name": "stdout",
          "text": [
            "\u001b[1m32/32\u001b[0m \u001b[32m━━━━━━━━━━━━━━━━━━━━\u001b[0m\u001b[37m\u001b[0m \u001b[1m0s\u001b[0m 5ms/step\n",
            "Perturbed Images Example\n"
          ]
        },
        {
          "output_type": "display_data",
          "data": {
            "text/plain": [
              "<Figure size 1000x500 with 10 Axes>"
            ],
            "image/png": "[encoded data removed]"
          },
          "metadata": {}
        },
        {
          "output_type": "stream",
          "name": "stdout",
          "text": [
            "\u001b[1m32/32\u001b[0m \u001b[32m━━━━━━━━━━━━━━━━━━━━\u001b[0m\u001b[37m\u001b[0m \u001b[1m0s\u001b[0m 6ms/step\n"
          ]
        }
      ]
    },
    {
      "cell_type": "code",
      "source": [
        "for skip in skips:\n",
        "    print(f'Modelo {skip}, % presición {Eval_models_by_rho_skip[skip]*100:0.2f}')"
      ],
      "metadata": {
        "colab": {
          "base_uri": "https://localhost:8080/"
        },
        "id": "ybNKa_y2UjLi",
        "outputId": "50d4b6c5-035f-48d8-fbb1-60b0bfee0b32"
      },
      "execution_count": null,
      "outputs": [
        {
          "output_type": "stream",
          "name": "stdout",
          "text": [
            "Modelo 4, % presición 37.70\n",
            "Modelo 6, % presición 66.20\n",
            "Modelo 8, % presición 65.60\n"
          ]
        }
      ]
    },
    {
      "cell_type": "markdown",
      "source": [
        "## Entrenamiento conjunto de modelos validación cruzada k-fold - Método *Dropout*"
      ],
      "metadata": {
        "id": "AGHey-n2Z-qb"
      }
    },
    {
      "cell_type": "markdown",
      "source": [
        "### Modelo DropOut"
      ],
      "metadata": {
        "id": "hKu7bXdJnIHA"
      }
    },
    {
      "cell_type": "code",
      "source": [
        "from keras.layers import Dropout\n",
        "\n",
        "def skip_conectionDropOut(dense_input, n, regular_l, probabilityDrop):\n",
        "  if n >= 2:\n",
        "    resDense = Dense(20, activation ='relu', kernel_regularizer=regular_l)(dense_input)\n",
        "    resDenseDropOut = Dropout((probabilityDrop))(resDense)\n",
        "    return skip_conection(Add()([dense_input, resDenseDropOut]), n-1, regular_l)\n",
        "  resDenseo = Dense(20, activation ='relu', kernel_regularizer=regular_l)(dense_input)\n",
        "  resDenseoDropOut = Dropout((probabilityDrop))(resDenseo)\n",
        "  return Add()([dense_input, resDenseo])"
      ],
      "metadata": {
        "id": "tkw_2OsrmQfT"
      },
      "execution_count": null,
      "outputs": []
    },
    {
      "cell_type": "code",
      "source": [
        "def load_modelDropOut(n, regular_l, probabilityDrop):\n",
        "  keras.backend.clear_session()\n",
        "  inputs  = Input(shape=(784,))\n",
        "  dense1  = Dense(20,  activation  ='relu', kernel_regularizer=regular_l)(inputs)\n",
        "  dense1DropOut = Dropout((probabilityDrop))(dense1)\n",
        "  skip_final = skip_conectionDropOut(dense1DropOut, n, regular_l, probabilityDrop)\n",
        "\n",
        "  outputs = Dense(10, activation='sigmoid', kernel_regularizer=regular_l)(skip_final)\n",
        "  return keras.Model(inputs=inputs, outputs=outputs, name='RestNetCustomModelExperimentoA')"
      ],
      "metadata": {
        "id": "yNGTXXzIaEq9"
      },
      "execution_count": null,
      "outputs": []
    },
    {
      "cell_type": "markdown",
      "source": [
        "### Sintonización hiper-parámetro"
      ],
      "metadata": {
        "id": "Rq42XxD7nj81"
      }
    },
    {
      "cell_type": "code",
      "source": [
        "skips = [4, 6, 8]\n",
        "kf = KFold(n_splits=5, shuffle=False)"
      ],
      "metadata": {
        "id": "qUdLyPU9nFvA"
      },
      "execution_count": null,
      "outputs": []
    },
    {
      "cell_type": "code",
      "source": [
        "param_grid = [ 0.2, 0.4, 0.6, 0.8]\n",
        "for skip in skips:\n",
        "  for param in param_grid:\n",
        "    print(f'Modelo {skip}, parametro {param}')\n",
        "    i = 0\n",
        "    acc_train = []\n",
        "    acc_test = []\n",
        "    for train_index, test_index in kf.split(X_train):\n",
        "      model = load_modelDropOut(skip, l.l2(0), param)\n",
        "      model.compile(loss='categorical_crossentropy',\n",
        "                  optimizer='SGD',\n",
        "                  metrics=['accuracy'])\n",
        "      model.fit(X_train[train_index],\n",
        "                y_train_onehot[train_index],\n",
        "                epochs = 60, verbose = 0)\n",
        "      acc_train.append(model.evaluate(X_train[train_index], y_train_onehot[train_index],verbose = 0)[1])\n",
        "      acc_test.append(model.evaluate(X_train[test_index], y_train_onehot[test_index], verbose = 0)[1])\n",
        "      print(f'Kfold {i+1} acc train {acc_train[i]}, acc test {acc_test[i]}')\n",
        "      i+=1\n",
        "    print(f'Fin modelo: promedio acc train {np.mean(acc_train)},std {np.std(acc_train)}')\n",
        "    print(f'Fin modelo: promedio acc test {np.mean(acc_test)},std {np.std(acc_test)}')\n",
        "    print('\\n')"
      ],
      "metadata": {
        "id": "SeF_CY5innj3",
        "colab": {
          "base_uri": "https://localhost:8080/"
        },
        "outputId": "da85acaf-bded-4f52-971d-bbf10c369232"
      },
      "execution_count": null,
      "outputs": [
        {
          "output_type": "stream",
          "name": "stdout",
          "text": [
            "Modelo 4, parametro 0.2\n",
            "Kfold 1 acc train 0.9818750023841858, acc test 0.9194999933242798\n",
            "Kfold 2 acc train 0.9763749837875366, acc test 0.934499979019165\n",
            "Kfold 3 acc train 0.972000002861023, acc test 0.9225000143051147\n",
            "Kfold 4 acc train 0.9796249866485596, acc test 0.9294999837875366\n",
            "Kfold 5 acc train 0.9753749966621399, acc test 0.9154999852180481\n",
            "Fin modelo: promedio acc train 0.977049994468689,std 0.0034256374128069345\n",
            "Fin modelo: promedio acc test 0.9242999911308288,std 0.006852731953505545\n",
            "\n",
            "\n",
            "Modelo 4, parametro 0.4\n",
            "Kfold 1 acc train 0.8653749823570251, acc test 0.8195000290870667\n",
            "Kfold 2 acc train 0.9470000267028809, acc test 0.9164999723434448\n",
            "Kfold 3 acc train 0.9522500038146973, acc test 0.9085000157356262\n",
            "Kfold 4 acc train 0.956250011920929, acc test 0.9164999723434448\n",
            "Kfold 5 acc train 0.9383749961853027, acc test 0.890500009059906\n",
            "Fin modelo: promedio acc train 0.931850004196167,std 0.03377143050666077\n",
            "Fin modelo: promedio acc test 0.8902999997138977,std 0.036651858231931005\n",
            "\n",
            "\n",
            "Modelo 4, parametro 0.6\n",
            "Kfold 1 acc train 0.9196249842643738, acc test 0.8575000166893005\n",
            "Kfold 2 acc train 0.8634999990463257, acc test 0.8575000166893005\n",
            "Kfold 3 acc train 0.8371250033378601, acc test 0.8069999814033508\n",
            "Kfold 4 acc train 0.8796250224113464, acc test 0.8360000252723694\n",
            "Kfold 5 acc train 0.8757500052452087, acc test 0.8295000195503235\n",
            "Fin modelo: promedio acc train 0.8751250028610229,std 0.026758287786344637\n",
            "Fin modelo: promedio acc test 0.8375000119209289,std 0.018955221343569542\n",
            "\n",
            "\n",
            "Modelo 4, parametro 0.8\n",
            "Kfold 1 acc train 0.4284999966621399, acc test 0.4345000088214874\n",
            "Kfold 2 acc train 0.36625000834465027, acc test 0.3695000112056732\n",
            "Kfold 3 acc train 0.8118749856948853, acc test 0.7935000061988831\n",
            "Kfold 4 acc train 0.6355000138282776, acc test 0.6010000109672546\n",
            "Kfold 5 acc train 0.47962498664855957, acc test 0.45899999141693115\n",
            "Fin modelo: promedio acc train 0.5443499982357025,std 0.1607532896374477\n",
            "Fin modelo: promedio acc test 0.5315000057220459,std 0.15125045499118453\n",
            "\n",
            "\n",
            "Modelo 6, parametro 0.2\n",
            "Kfold 1 acc train 0.9668750166893005, acc test 0.8999999761581421\n",
            "Kfold 2 acc train 0.9764999747276306, acc test 0.9309999942779541\n",
            "Kfold 3 acc train 0.9732499718666077, acc test 0.9154999852180481\n",
            "Kfold 4 acc train 0.9700000286102295, acc test 0.906499981880188\n",
            "Kfold 5 acc train 0.9800000190734863, acc test 0.9179999828338623\n",
            "Fin modelo: promedio acc train 0.973325002193451,std 0.004632487297864285\n",
            "Fin modelo: promedio acc test 0.9141999840736389,std 0.010576394423408958\n",
            "\n",
            "\n",
            "Modelo 6, parametro 0.4\n",
            "Kfold 1 acc train 0.9541249871253967, acc test 0.9035000205039978\n",
            "Kfold 2 acc train 0.9282500147819519, acc test 0.9045000076293945\n",
            "Kfold 3 acc train 0.9394999742507935, acc test 0.8964999914169312\n",
            "Kfold 4 acc train 0.9524999856948853, acc test 0.9120000004768372\n",
            "Kfold 5 acc train 0.9591249823570251, acc test 0.8985000252723694\n",
            "Fin modelo: promedio acc train 0.9466999888420105,std 0.011272912487732484\n",
            "Fin modelo: promedio acc test 0.903000009059906,std 0.005403701252004993\n",
            "\n",
            "\n",
            "Modelo 6, parametro 0.6\n",
            "Kfold 1 acc train 0.7511249780654907, acc test 0.7210000157356262\n",
            "Kfold 2 acc train 0.6476250290870667, acc test 0.6625000238418579\n",
            "Kfold 3 acc train 0.8666250109672546, acc test 0.8345000147819519\n",
            "Kfold 4 acc train 0.7742499709129333, acc test 0.718500018119812\n",
            "Kfold 5 acc train 0.8450000286102295, acc test 0.8054999709129333\n",
            "Fin modelo: promedio acc train 0.776925003528595,std 0.07755202238282677\n",
            "Fin modelo: promedio acc test 0.7484000086784363,std 0.0627649475134054\n",
            "\n",
            "\n",
            "Modelo 6, parametro 0.8\n",
            "Kfold 1 acc train 0.5509999990463257, acc test 0.5214999914169312\n",
            "Kfold 2 acc train 0.3542500138282776, acc test 0.3824999928474426\n",
            "Kfold 3 acc train 0.30162501335144043, acc test 0.2919999957084656\n",
            "Kfold 4 acc train 0.20762500166893005, acc test 0.20350000262260437\n",
            "Kfold 5 acc train 0.3296250104904175, acc test 0.31700000166893005\n",
            "Fin modelo: promedio acc train 0.34882500767707825,std 0.11263931718534602\n",
            "Fin modelo: promedio acc test 0.34329999685287477,std 0.1059804661241678\n",
            "\n",
            "\n",
            "Modelo 8, parametro 0.2\n",
            "Kfold 1 acc train 0.9773749709129333, acc test 0.9075000286102295\n",
            "Kfold 2 acc train 0.9758750200271606, acc test 0.9275000095367432\n",
            "Kfold 3 acc train 0.968500018119812, acc test 0.9190000295639038\n",
            "Kfold 4 acc train 0.9614999890327454, acc test 0.9024999737739563\n",
            "Kfold 5 acc train 0.9476249814033508, acc test 0.8859999775886536\n",
            "Fin modelo: promedio acc train 0.9661749958992004,std 0.010871010658767858\n",
            "Fin modelo: promedio acc test 0.9085000038146973,std 0.014244312894933026\n",
            "\n",
            "\n",
            "Modelo 8, parametro 0.4\n",
            "Kfold 1 acc train 0.9434999823570251, acc test 0.8799999952316284\n",
            "Kfold 2 acc train 0.9277499914169312, acc test 0.9020000100135803\n",
            "Kfold 3 acc train 0.9120000004768372, acc test 0.8734999895095825\n",
            "Kfold 4 acc train 0.9341250061988831, acc test 0.8834999799728394\n",
            "Kfold 5 acc train 0.8357499837875366, acc test 0.781000018119812\n",
            "Fin modelo: promedio acc train 0.9106249928474426,std 0.038818652131365726\n",
            "Fin modelo: promedio acc test 0.8639999985694885,std 0.042566410748803275\n",
            "\n",
            "\n",
            "Modelo 8, parametro 0.6\n",
            "Kfold 1 acc train 0.7631250023841858, acc test 0.7294999957084656\n",
            "Kfold 2 acc train 0.33937498927116394, acc test 0.33649998903274536\n",
            "Kfold 3 acc train 0.7146250009536743, acc test 0.6744999885559082\n",
            "Kfold 4 acc train 0.7214999794960022, acc test 0.6669999957084656\n",
            "Kfold 5 acc train 0.8320000171661377, acc test 0.7870000004768372\n",
            "Fin modelo: promedio acc train 0.6741249978542327,std 0.17250375642984905\n",
            "Fin modelo: promedio acc test 0.6388999938964843,std 0.1572543830489982\n",
            "\n",
            "\n",
            "Modelo 8, parametro 0.8\n",
            "Kfold 1 acc train 0.22062499821186066, acc test 0.2224999964237213\n",
            "Kfold 2 acc train 0.37575000524520874, acc test 0.3799999952316284\n",
            "Kfold 3 acc train 0.3330000042915344, acc test 0.31700000166893005\n",
            "Kfold 4 acc train 0.3944999873638153, acc test 0.37599998712539673\n",
            "Kfold 5 acc train 0.34474998712539673, acc test 0.3375000059604645\n",
            "Fin modelo: promedio acc train 0.33372499644756315,std 0.060619116653579254\n",
            "Fin modelo: promedio acc test 0.3265999972820282,std 0.05716589728361343\n",
            "\n",
            "\n"
          ]
        }
      ]
    },
    {
      "cell_type": "code",
      "source": [
        "regularParameters = {4: 0.2, 6: 0.2, 8: 0.2}\n",
        "regularParameters"
      ],
      "metadata": {
        "colab": {
          "base_uri": "https://localhost:8080/"
        },
        "id": "WyFso-o-qQpc",
        "outputId": "122df606-9773-4a8e-d554-507040a2461e"
      },
      "execution_count": null,
      "outputs": [
        {
          "output_type": "execute_result",
          "data": {
            "text/plain": [
              "{4: 0.2, 6: 0.2, 8: 0.2}"
            ]
          },
          "metadata": {},
          "execution_count": 47
        }
      ]
    },
    {
      "cell_type": "markdown",
      "source": [
        "### Entrenamiento"
      ],
      "metadata": {
        "id": "sT9fR0fnp1r4"
      }
    },
    {
      "cell_type": "code",
      "source": [
        "skips = [4,6,8]\n",
        "n_epochs = 60\n",
        "resultGeneralDO = {}\n",
        "modelDO = {}\n",
        "\n",
        "for skip in skips:\n",
        "\n",
        "  optimizer = tf.keras.optimizers.SGD()\n",
        "  ce_loss = tf.keras.losses.CategoricalCrossentropy()\n",
        "\n",
        "  print(f'Modelo : {skip} saltos residuales')\n",
        "  print(f'\\n ----')\n",
        "\n",
        "  generator = DataGenerator(images=X_train,\n",
        "                            labels=y_train,\n",
        "                            batch_size=100, shuffle=True)\n",
        "  n_batches = len(generator)\n",
        "  print(n_batches)\n",
        "  model = load_modelDropOut(skip,l.l2(0),regularParameters[skip])\n",
        "  model.compile(optimizer=optimizer,\n",
        "                loss = tf.keras.losses.CategoricalCrossentropy(),\n",
        "                metrics =['accuracy'])\n",
        "\n",
        "  acc_train = np.zeros(shape=(n_epochs,), dtype=np.float32)\n",
        "  LB_1 = np.zeros(shape=(n_epochs,))\n",
        "\n",
        "  for epoch in range(n_epochs):\n",
        "    epoch_acc_avg = tf.keras.metrics.Mean()\n",
        "\n",
        "    for batch in range(n_batches):\n",
        "      x, y = generator[batch]\n",
        "\n",
        "      with tf.GradientTape() as tape: # Forward pass\n",
        "        y_ = model(x, training=True)\n",
        "        loss = ce_loss(y_true=keras.utils.to_categorical(y, num_classes=10), y_pred=y_)\n",
        "\n",
        "      grad = tape.gradient(loss, model.trainable_variables)\n",
        "      optimizer.apply_gradients(zip(grad, model.trainable_variables)) # Update network weights\n",
        "      epoch_acc_avg(sklearn.metrics.accuracy_score(y_true=y, y_pred=np.argmax(y_, axis=-1)))\n",
        "\n",
        "    generator.on_epoch_end()\n",
        "    acc_train[epoch] = epoch_acc_avg.result()\n",
        "    LB_1[epoch] = lipschitz_bound(model.get_weights())\n",
        "\n",
        "  y_test_ = model(X_test)\n",
        "  acc_test = sklearn.metrics.accuracy_score(y_true=y_test,\n",
        "                                                    y_pred=np.argmax(y_test_, axis=-1))\n",
        "\n",
        "  resultGeneralDO[skip] = [acc_train, acc_test, LB_1]\n",
        "  modelDO[skip] = model\n",
        "pd.DataFrame.to_csv(pd.DataFrame(resultGeneralDO), 'ResultadosExperimentoADOadv.csv')"
      ],
      "metadata": {
        "colab": {
          "base_uri": "https://localhost:8080/"
        },
        "id": "NaqHy4iOp5PF",
        "outputId": "35ec4f9b-d587-43e4-bc7b-7a89e500038f"
      },
      "execution_count": null,
      "outputs": [
        {
          "output_type": "stream",
          "name": "stdout",
          "text": [
            "Modelo : 4 saltos residuales\n",
            "\n",
            " ----\n",
            "100\n",
            "Modelo : 6 saltos residuales\n",
            "\n",
            " ----\n",
            "100\n",
            "Modelo : 8 saltos residuales\n",
            "\n",
            " ----\n",
            "100\n"
          ]
        }
      ]
    },
    {
      "cell_type": "markdown",
      "source": [
        "### Evaluación en test de los modelos"
      ],
      "metadata": {
        "id": "Uyr3Xcu-sZyt"
      }
    },
    {
      "cell_type": "code",
      "source": [
        "for skip in skips:\n",
        "  mean_test = resultGeneralDO[skip][1]\n",
        "  print(f'Modelo {skip}, test {mean_test*100:0.2f}')"
      ],
      "metadata": {
        "colab": {
          "base_uri": "https://localhost:8080/"
        },
        "id": "RGK-Cg_gsZAa",
        "outputId": "ed7ef8d2-45d0-4f90-94ad-33d585bf2788"
      },
      "execution_count": null,
      "outputs": [
        {
          "output_type": "stream",
          "name": "stdout",
          "text": [
            "Modelo 4, test 90.80\n",
            "Modelo 6, test 91.73\n",
            "Modelo 8, test 90.68\n"
          ]
        }
      ]
    },
    {
      "cell_type": "markdown",
      "source": [
        "### Evaluación en entrenamiento de los modelos"
      ],
      "metadata": {
        "id": "JVpUsXpDsdzU"
      }
    },
    {
      "cell_type": "code",
      "source": [
        "for skip in skips:\n",
        "  mean_train = resultGeneralDO[skip][0][-1]\n",
        "  print(f'Modelo {skip}, train {mean_train*100:0.2f}')"
      ],
      "metadata": {
        "colab": {
          "base_uri": "https://localhost:8080/"
        },
        "id": "7k5l69YAsg6o",
        "outputId": "464d68bb-0a23-44a5-e838-607fbc6b53d5"
      },
      "execution_count": null,
      "outputs": [
        {
          "output_type": "stream",
          "name": "stdout",
          "text": [
            "Modelo 4, train 88.86\n",
            "Modelo 6, train 90.83\n",
            "Modelo 8, train 88.88\n"
          ]
        }
      ]
    },
    {
      "cell_type": "markdown",
      "source": [
        "### Evaluación con imágenes adversarias"
      ],
      "metadata": {
        "id": "iLLwQWnDcxFR"
      }
    },
    {
      "cell_type": "code",
      "source": [
        "print(\"Imagenes originales\")\n",
        "graph_digits(X_test[0:1000], y_test[0:1000])\n",
        "\n",
        "# Loss function\n",
        "loss_function = keras.losses.categorical_crossentropy\n",
        "Eval_models_by_rho_skip = {}\n",
        "\n",
        "for skip in skips:\n",
        "    rho = 0.02\n",
        "    Eval_models_by_rho = {}\n",
        "    model = modelDO[skip]\n",
        "\n",
        "    X_test_attack = np.zeros((1000, 784))\n",
        "    i = 0\n",
        "\n",
        "    for x_test in X_test[0:1000]:\n",
        "        x_tensor = tf.convert_to_tensor(x_test, dtype='float32')\n",
        "        x_tensor = tf.expand_dims(x_tensor, axis=0)\n",
        "        y_tensor = tf.convert_to_tensor(y_test_onehot[i], dtype='float32')\n",
        "        y_tensor = tf.expand_dims(y_tensor, axis=0)\n",
        "\n",
        "        # Generate adversarial example with PGD\n",
        "        x_test_new = pgd_attack(x_tensor, y_tensor, model, epsilon=rho, alpha=0.005, iterations=10)\n",
        "        X_test_attack[i] = scale_image(x_test_new)\n",
        "        i += 1\n",
        "\n",
        "    print(f'Perturbed Images Example')\n",
        "    graph_digits(X_test_attack, y_test[0:1000])\n",
        "\n",
        "    # Evaluate the model on adversarial examples\n",
        "    y_pred = model.predict(X_test_attack)\n",
        "    Eval_models = sklearn.metrics.accuracy_score(y_true=y_test[0:1000], y_pred=np.argmax(y_pred, axis=-1))\n",
        "    Eval_models_by_rho_skip[skip] = Eval_models"
      ],
      "metadata": {
        "colab": {
          "base_uri": "https://localhost:8080/",
          "height": 1000
        },
        "id": "6pFU9Ovnc0Km",
        "outputId": "3331dd8d-71a5-4eb3-d7f0-98de47d04fb1"
      },
      "execution_count": null,
      "outputs": [
        {
          "output_type": "stream",
          "name": "stdout",
          "text": [
            "Imagenes originales\n"
          ]
        },
        {
          "output_type": "display_data",
          "data": {
            "text/plain": [
              "<Figure size 1000x500 with 10 Axes>"
            ],
            "image/png": "[encoded data removed]"
          },
          "metadata": {}
        },
        {
          "output_type": "stream",
          "name": "stdout",
          "text": [
            "Perturbed Images Example\n"
          ]
        },
        {
          "output_type": "display_data",
          "data": {
            "text/plain": [
              "<Figure size 1000x500 with 10 Axes>"
            ],
            "image/png": "[encoded data removed]"
          },
          "metadata": {}
        },
        {
          "output_type": "stream",
          "name": "stdout",
          "text": [
            "\u001b[1m32/32\u001b[0m \u001b[32m━━━━━━━━━━━━━━━━━━━━\u001b[0m\u001b[37m\u001b[0m \u001b[1m0s\u001b[0m 4ms/step\n",
            "Perturbed Images Example\n"
          ]
        },
        {
          "output_type": "display_data",
          "data": {
            "text/plain": [
              "<Figure size 1000x500 with 10 Axes>"
            ],
            "image/png": "[encoded data removed]"
          },
          "metadata": {}
        },
        {
          "output_type": "stream",
          "name": "stdout",
          "text": [
            "\u001b[1m32/32\u001b[0m \u001b[32m━━━━━━━━━━━━━━━━━━━━\u001b[0m\u001b[37m\u001b[0m \u001b[1m0s\u001b[0m 7ms/step\n",
            "Perturbed Images Example\n"
          ]
        },
        {
          "output_type": "display_data",
          "data": {
            "text/plain": [
              "<Figure size 1000x500 with 10 Axes>"
            ],
            "image/png": "[encoded data removed]"
          },
          "metadata": {}
        },
        {
          "output_type": "stream",
          "name": "stdout",
          "text": [
            "\u001b[1m32/32\u001b[0m \u001b[32m━━━━━━━━━━━━━━━━━━━━\u001b[0m\u001b[37m\u001b[0m \u001b[1m0s\u001b[0m 5ms/step\n"
          ]
        }
      ]
    },
    {
      "cell_type": "code",
      "source": [
        "for skip in skips:\n",
        "    print(f'Modelo {skip}, % presición {Eval_models_by_rho_skip[skip]*100:0.2f}')"
      ],
      "metadata": {
        "colab": {
          "base_uri": "https://localhost:8080/"
        },
        "id": "D_are61bsFTP",
        "outputId": "8baf47f0-cca4-4473-cf96-6ba2e83d258b"
      },
      "execution_count": null,
      "outputs": [
        {
          "output_type": "stream",
          "name": "stdout",
          "text": [
            "Modelo 4, % presición 56.50\n",
            "Modelo 6, % presición 49.40\n",
            "Modelo 8, % presición 46.50\n"
          ]
        }
      ]
    }
  ],
  "metadata": {
    "colab": {
      "provenance": [],
      "toc_visible": true,
      "mount_file_id": "1oTksq2U_wBijEMolJCgBum01CeDWKk74",
      "authorship_tag": "ABX9TyMTS28tYPt8WOyVmdKNph3T",
      "include_colab_link": true
    },
    "kernelspec": {
      "display_name": "Python 3",
      "name": "python3"
    },
    "language_info": {
      "name": "python"
    },
    "gpuClass": "standard"
  },
  "nbformat": 4,
  "nbformat_minor": 0
}